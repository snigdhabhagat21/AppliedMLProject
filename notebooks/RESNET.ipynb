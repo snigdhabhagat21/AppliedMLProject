{
  "nbformat": 4,
  "nbformat_minor": 0,
  "metadata": {
    "colab": {
      "name": "RESNET.ipynb",
      "provenance": [],
      "collapsed_sections": []
    },
    "kernelspec": {
      "name": "python3",
      "display_name": "Python 3"
    },
    "language_info": {
      "name": "python"
    },
    "accelerator": "GPU"
  },
  "cells": [
    {
      "cell_type": "code",
      "execution_count": null,
      "metadata": {
        "colab": {
          "base_uri": "https://localhost:8080/"
        },
        "id": "35sFgsgFvLVb",
        "outputId": "25e9327b-9300-4074-cfc6-eae533d027e8"
      },
      "outputs": [
        {
          "output_type": "stream",
          "name": "stdout",
          "text": [
            "Drive already mounted at /content/drive; to attempt to forcibly remount, call drive.mount(\"/content/drive\", force_remount=True).\n"
          ]
        }
      ],
      "source": [
        "from google.colab import drive\n",
        "drive.mount('/content/drive')"
      ]
    },
    {
      "cell_type": "code",
      "source": [
        "%tensorflow_version 1.x\n",
        "!pip install -q keras-vggface\n",
        "!pip install -q scikit-image\n",
        "!pip install -q pydot\n",
        "!pip install -q keras==2.2.5\n",
        "!pip install h5py==2.10.0  "
      ],
      "metadata": {
        "colab": {
          "base_uri": "https://localhost:8080/"
        },
        "id": "T2ZQ6GzcvROD",
        "outputId": "136e06eb-45f2-4674-e38f-83b4587872b2"
      },
      "execution_count": null,
      "outputs": [
        {
          "output_type": "stream",
          "name": "stdout",
          "text": [
            "TensorFlow 1.x selected.\n",
            "Requirement already satisfied: h5py==2.10.0 in /usr/local/lib/python3.7/dist-packages (2.10.0)\n",
            "Requirement already satisfied: six in /usr/local/lib/python3.7/dist-packages (from h5py==2.10.0) (1.15.0)\n",
            "Requirement already satisfied: numpy>=1.7 in /usr/local/lib/python3.7/dist-packages (from h5py==2.10.0) (1.21.5)\n"
          ]
        }
      ]
    },
    {
      "cell_type": "code",
      "source": [
        "import matplotlib.pyplot as plt\n",
        "import pandas as pd\n",
        "import numpy as np\n",
        "\n",
        "import tensorflow as tf\n",
        "from tensorflow.keras.layers import *\n",
        "from tensorflow.python.lib.io import file_io\n",
        "\n",
        "%matplotlib inline\n",
        "\n",
        "import keras\n",
        "from keras import backend as K\n",
        "from keras.callbacks import ModelCheckpoint, EarlyStopping\n",
        "from keras.models import load_model\n",
        "from keras.preprocessing.image import ImageDataGenerator\n",
        "from keras_vggface.vggface import VGGFace\n",
        "from keras.utils import plot_model\n",
        "from sklearn.metrics import *\n",
        "from keras.engine import Model\n",
        "from keras.layers import Input, Flatten, Dense, Activation, Conv2D, MaxPool2D, BatchNormalization, Dropout, MaxPooling2D\n",
        "import skimage\n",
        "from skimage.transform import rescale, resize\n",
        "\n",
        "import pydot"
      ],
      "metadata": {
        "colab": {
          "base_uri": "https://localhost:8080/"
        },
        "id": "DD6SuDUOvhSc",
        "outputId": "ffe7d9d8-946c-4885-f783-78fb2d2cf725"
      },
      "execution_count": null,
      "outputs": [
        {
          "output_type": "stream",
          "name": "stderr",
          "text": [
            "Using TensorFlow backend.\n"
          ]
        }
      ]
    },
    {
      "cell_type": "code",
      "source": [
        "print(tf.__version__)\n",
        "print(keras.__version__)"
      ],
      "metadata": {
        "colab": {
          "base_uri": "https://localhost:8080/"
        },
        "id": "4P-8tXSfvmHg",
        "outputId": "a2c63fb1-0eb8-48b8-f6a0-8839aebb9f93"
      },
      "execution_count": null,
      "outputs": [
        {
          "output_type": "stream",
          "name": "stdout",
          "text": [
            "1.15.2\n",
            "2.2.5\n"
          ]
        }
      ]
    },
    {
      "cell_type": "code",
      "source": [
        "EPOCHS = 50\n",
        "BS = 64\n",
        "DROPOUT_RATE = 0.5\n",
        "FROZEN_LAYER_NUM = 170\n",
        "\n",
        "ADAM_LEARNING_RATE = 0.001\n",
        "SGD_LEARNING_RATE = 0.01\n",
        "SGD_DECAY = 0.0001\n",
        "\n",
        "Resize_pixelsize = 197"
      ],
      "metadata": {
        "id": "lRErAvEuwEPC"
      },
      "execution_count": null,
      "outputs": []
    },
    {
      "cell_type": "code",
      "source": [
        "vgg_notop = VGGFace(model='resnet50', include_top=False, input_shape=(Resize_pixelsize, Resize_pixelsize, 3), pooling='avg')\n",
        "last_layer = vgg_notop.get_layer('avg_pool').output\n",
        "x = Flatten(name='flatten')(last_layer)\n",
        "x = Dropout(DROPOUT_RATE)(x)\n",
        "x = Dense(4096, activation='relu', name='fc6')(x)\n",
        "x = Dropout(DROPOUT_RATE)(x)\n",
        "x = Dense(1024, activation='relu', name='fc7')(x)\n",
        "x = Dropout(DROPOUT_RATE)(x)\n",
        "    \n",
        "batch_norm_indices = [2, 6, 9, 13, 14, 18, 21, 24, 28, 31, 34, 38, 41, 45, 46, 53, 56, 60, 63, 66, 70, 73, 76, 80, 83, 87, 88, 92, 95, 98, 102, 105, 108, 112, 115, 118, 122, 125, 128, 132, 135, 138, 142, 145, 149, 150, 154, 157, 160, 164, 167, 170]\n",
        "for i in range(FROZEN_LAYER_NUM):\n",
        "    if i not in batch_norm_indices:\n",
        "        vgg_notop.layers[i].trainable = False\n",
        "\n",
        "out = Dense(7, activation='softmax', name='classifier')(x)\n",
        "\n",
        "model = Model(vgg_notop.input, out)\n",
        "\n",
        "\n",
        "optim = keras.optimizers.Adam(lr=ADAM_LEARNING_RATE, beta_1=0.9, beta_2=0.999, epsilon=1e-08, decay=0.0)\n",
        "sgd = keras.optimizers.SGD(lr=SGD_LEARNING_RATE, momentum=0.9, decay=SGD_DECAY, nesterov=True)\n",
        "rlrop = keras.callbacks.ReduceLROnPlateau(monitor='val_acc',mode='max',factor=0.5, patience=5, min_lr=0.00001, verbose=1)\n",
        "mfile = '/content/drive/MyDrive/aml/saved/resnet/my_best_model.epoch{epoch:02d}-loss{val_loss:.3f}.hdf5'\n",
        "msave = keras.callbacks.ModelCheckpoint(filepath=mfile,verbose=1, save_weights_only=True,period= 10 )\n",
        "\n",
        "model.compile(optimizer=sgd, loss='categorical_crossentropy', metrics=['accuracy'])"
      ],
      "metadata": {
        "colab": {
          "base_uri": "https://localhost:8080/"
        },
        "id": "CYdXvQYdwMWd",
        "outputId": "023d66cd-7428-482b-81c9-01653aaf9ef7"
      },
      "execution_count": null,
      "outputs": [
        {
          "output_type": "stream",
          "name": "stdout",
          "text": [
            "WARNING:tensorflow:From /usr/local/lib/python3.7/dist-packages/keras/backend/tensorflow_backend.py:66: The name tf.get_default_graph is deprecated. Please use tf.compat.v1.get_default_graph instead.\n",
            "\n",
            "WARNING:tensorflow:From /usr/local/lib/python3.7/dist-packages/keras/backend/tensorflow_backend.py:541: The name tf.placeholder is deprecated. Please use tf.compat.v1.placeholder instead.\n",
            "\n",
            "WARNING:tensorflow:From /usr/local/lib/python3.7/dist-packages/keras/backend/tensorflow_backend.py:4432: The name tf.random_uniform is deprecated. Please use tf.random.uniform instead.\n",
            "\n",
            "WARNING:tensorflow:From /usr/local/lib/python3.7/dist-packages/keras/backend/tensorflow_backend.py:190: The name tf.get_default_session is deprecated. Please use tf.compat.v1.get_default_session instead.\n",
            "\n",
            "WARNING:tensorflow:From /usr/local/lib/python3.7/dist-packages/keras/backend/tensorflow_backend.py:197: The name tf.ConfigProto is deprecated. Please use tf.compat.v1.ConfigProto instead.\n",
            "\n",
            "WARNING:tensorflow:From /usr/local/lib/python3.7/dist-packages/keras/backend/tensorflow_backend.py:203: The name tf.Session is deprecated. Please use tf.compat.v1.Session instead.\n",
            "\n",
            "WARNING:tensorflow:From /usr/local/lib/python3.7/dist-packages/keras/backend/tensorflow_backend.py:207: The name tf.global_variables is deprecated. Please use tf.compat.v1.global_variables instead.\n",
            "\n",
            "WARNING:tensorflow:From /usr/local/lib/python3.7/dist-packages/keras/backend/tensorflow_backend.py:216: The name tf.is_variable_initialized is deprecated. Please use tf.compat.v1.is_variable_initialized instead.\n",
            "\n",
            "WARNING:tensorflow:From /usr/local/lib/python3.7/dist-packages/keras/backend/tensorflow_backend.py:223: The name tf.variables_initializer is deprecated. Please use tf.compat.v1.variables_initializer instead.\n",
            "\n",
            "WARNING:tensorflow:From /usr/local/lib/python3.7/dist-packages/keras/backend/tensorflow_backend.py:2041: The name tf.nn.fused_batch_norm is deprecated. Please use tf.compat.v1.nn.fused_batch_norm instead.\n",
            "\n",
            "WARNING:tensorflow:From /usr/local/lib/python3.7/dist-packages/keras/backend/tensorflow_backend.py:148: The name tf.placeholder_with_default is deprecated. Please use tf.compat.v1.placeholder_with_default instead.\n",
            "\n",
            "WARNING:tensorflow:From /usr/local/lib/python3.7/dist-packages/keras/backend/tensorflow_backend.py:4267: The name tf.nn.max_pool is deprecated. Please use tf.nn.max_pool2d instead.\n",
            "\n",
            "WARNING:tensorflow:From /usr/local/lib/python3.7/dist-packages/keras/backend/tensorflow_backend.py:4271: The name tf.nn.avg_pool is deprecated. Please use tf.nn.avg_pool2d instead.\n",
            "\n",
            "WARNING:tensorflow:From /usr/local/lib/python3.7/dist-packages/keras/backend/tensorflow_backend.py:3733: calling dropout (from tensorflow.python.ops.nn_ops) with keep_prob is deprecated and will be removed in a future version.\n",
            "Instructions for updating:\n",
            "Please use `rate` instead of `keep_prob`. Rate should be set to `rate = 1 - keep_prob`.\n",
            "WARNING:tensorflow:From /usr/local/lib/python3.7/dist-packages/keras/optimizers.py:793: The name tf.train.Optimizer is deprecated. Please use tf.compat.v1.train.Optimizer instead.\n",
            "\n",
            "WARNING:tensorflow:From /usr/local/lib/python3.7/dist-packages/keras/backend/tensorflow_backend.py:3576: The name tf.log is deprecated. Please use tf.math.log instead.\n",
            "\n"
          ]
        }
      ]
    },
    {
      "cell_type": "code",
      "source": [
        "! rm -rf train; mkdir train\n",
        "! unzip -q '/content/drive/MyDrive/aml/datasets/fer2013/train.zip' -d train\n",
        "\n",
        "! rm -rf dev; mkdir dev\n",
        "! unzip -q '/content/drive/MyDrive/aml/datasets/fer2013/test-public.zip' -d dev\n",
        "\n",
        "! rm -rf test; mkdir test\n",
        "! unzip -q '/content/drive/MyDrive/aml/datasets/fer2013/test-private.zip' -d test"
      ],
      "metadata": {
        "id": "Boj5gdp0wZse"
      },
      "execution_count": null,
      "outputs": []
    },
    {
      "cell_type": "code",
      "source": [
        "from tensorflow.keras.preprocessing.image import ImageDataGenerator\n",
        "\n",
        "def get_datagen(dataset, aug=False):\n",
        "    if aug:\n",
        "        datagen = ImageDataGenerator(\n",
        "                            rescale=1./255,\n",
        "                            featurewise_center=False,\n",
        "                            featurewise_std_normalization=False,\n",
        "                            rotation_range=10,\n",
        "                            width_shift_range=0.1,\n",
        "                            height_shift_range=0.1,\n",
        "                            zoom_range=0.1,\n",
        "                            horizontal_flip=True)\n",
        "    else:\n",
        "        datagen = ImageDataGenerator(rescale=1./255)\n",
        "\n",
        "    return datagen.flow_from_directory(\n",
        "            dataset,\n",
        "            target_size=(197, 197),\n",
        "            color_mode='rgb',\n",
        "            shuffle = True,\n",
        "            class_mode='categorical',\n",
        "            batch_size=BS)"
      ],
      "metadata": {
        "id": "BdQ-gsLlw1H4"
      },
      "execution_count": null,
      "outputs": []
    },
    {
      "cell_type": "code",
      "source": [
        "train_generator  = get_datagen('/content/train', True)\n",
        "dev_generator    = get_datagen('/content/dev')\n",
        "test_generator  = get_datagen('/content/test')"
      ],
      "metadata": {
        "colab": {
          "base_uri": "https://localhost:8080/"
        },
        "id": "VRLuxcFrw5r3",
        "outputId": "2c42e6b3-6317-404a-d77b-3eccb6f0fb7f"
      },
      "execution_count": null,
      "outputs": [
        {
          "output_type": "stream",
          "name": "stdout",
          "text": [
            "Found 28709 images belonging to 7 classes.\n",
            "Found 3589 images belonging to 7 classes.\n",
            "Found 3589 images belonging to 7 classes.\n"
          ]
        }
      ]
    },
    {
      "cell_type": "code",
      "source": [
        "history = model.fit_generator(\n",
        "    generator = train_generator,\n",
        "    validation_data=dev_generator, \n",
        "    steps_per_epoch=28709// BS,\n",
        "    validation_steps=3589 // BS,\n",
        "    shuffle=True,\n",
        "    epochs=100,\n",
        "\n",
        "    callbacks=[rlrop,msave]\n",
        ") "
      ],
      "metadata": {
        "id": "oVTzBrtSw70h",
        "colab": {
          "base_uri": "https://localhost:8080/"
        },
        "outputId": "7dfcf7c0-17d7-4777-f9ae-79950a84df86"
      },
      "execution_count": null,
      "outputs": [
        {
          "output_type": "stream",
          "name": "stdout",
          "text": [
            "WARNING:tensorflow:From /tensorflow-1.15.2/python3.7/tensorflow_core/python/ops/math_grad.py:1424: where (from tensorflow.python.ops.array_ops) is deprecated and will be removed in a future version.\n",
            "Instructions for updating:\n",
            "Use tf.where in 2.0, which has the same broadcast rule as np.where\n",
            "WARNING:tensorflow:From /usr/local/lib/python3.7/dist-packages/keras/backend/tensorflow_backend.py:1033: The name tf.assign_add is deprecated. Please use tf.compat.v1.assign_add instead.\n",
            "\n",
            "WARNING:tensorflow:From /usr/local/lib/python3.7/dist-packages/keras/backend/tensorflow_backend.py:1020: The name tf.assign is deprecated. Please use tf.compat.v1.assign instead.\n",
            "\n",
            "Epoch 1/100\n",
            "448/448 [==============================] - 326s 727ms/step - loss: 1.9836 - acc: 0.3539 - val_loss: 1.2741 - val_acc: 0.5159\n",
            "Epoch 2/100\n",
            "448/448 [==============================] - 314s 702ms/step - loss: 1.3503 - acc: 0.4946 - val_loss: 1.1477 - val_acc: 0.5790\n",
            "Epoch 3/100\n",
            "448/448 [==============================] - 314s 701ms/step - loss: 1.2360 - acc: 0.5378 - val_loss: 1.0774 - val_acc: 0.6045\n",
            "Epoch 4/100\n",
            "448/448 [==============================] - 315s 702ms/step - loss: 1.1703 - acc: 0.5614 - val_loss: 1.0900 - val_acc: 0.5852\n",
            "Epoch 5/100\n",
            "448/448 [==============================] - 314s 701ms/step - loss: 1.1293 - acc: 0.5763 - val_loss: 1.0303 - val_acc: 0.6278\n",
            "Epoch 6/100\n",
            "448/448 [==============================] - 314s 701ms/step - loss: 1.0931 - acc: 0.5926 - val_loss: 1.0304 - val_acc: 0.6281\n",
            "Epoch 7/100\n",
            "448/448 [==============================] - 314s 702ms/step - loss: 1.0649 - acc: 0.6021 - val_loss: 1.0093 - val_acc: 0.6218\n",
            "Epoch 8/100\n",
            "448/448 [==============================] - 313s 699ms/step - loss: 1.0417 - acc: 0.6127 - val_loss: 0.9882 - val_acc: 0.6394\n",
            "Epoch 9/100\n",
            "448/448 [==============================] - 313s 699ms/step - loss: 1.0208 - acc: 0.6192 - val_loss: 1.0203 - val_acc: 0.6360\n",
            "Epoch 10/100\n",
            "448/448 [==============================] - 313s 700ms/step - loss: 0.9978 - acc: 0.6284 - val_loss: 0.9741 - val_acc: 0.6496\n",
            "\n",
            "Epoch 00010: saving model to /content/drive/MyDrive/aml/saved/resnet/my_best_model.epoch10-loss0.974.hdf5\n",
            "Epoch 11/100\n",
            "448/448 [==============================] - 314s 700ms/step - loss: 0.9753 - acc: 0.6342 - val_loss: 0.9688 - val_acc: 0.6431\n",
            "Epoch 12/100\n",
            "448/448 [==============================] - 313s 700ms/step - loss: 0.9658 - acc: 0.6350 - val_loss: 0.9589 - val_acc: 0.6516\n",
            "Epoch 13/100\n",
            "448/448 [==============================] - 312s 697ms/step - loss: 0.9436 - acc: 0.6482 - val_loss: 0.9421 - val_acc: 0.6701\n",
            "Epoch 14/100\n",
            "448/448 [==============================] - 312s 697ms/step - loss: 0.9419 - acc: 0.6440 - val_loss: 0.9556 - val_acc: 0.6613\n",
            "Epoch 15/100\n",
            "448/448 [==============================] - 312s 697ms/step - loss: 0.9255 - acc: 0.6522 - val_loss: 0.9261 - val_acc: 0.6616\n",
            "Epoch 16/100\n",
            "448/448 [==============================] - 312s 696ms/step - loss: 0.9126 - acc: 0.6547 - val_loss: 0.9497 - val_acc: 0.6630\n",
            "Epoch 17/100\n",
            "448/448 [==============================] - 313s 699ms/step - loss: 0.8997 - acc: 0.6621 - val_loss: 0.9351 - val_acc: 0.6718\n",
            "Epoch 18/100\n",
            "448/448 [==============================] - 312s 696ms/step - loss: 0.8878 - acc: 0.6648 - val_loss: 0.9293 - val_acc: 0.6641\n",
            "Epoch 19/100\n",
            " 68/448 [===>..........................] - ETA: 3:59 - loss: 0.8846 - acc: 0.6716"
          ]
        }
      ]
    },
    {
      "cell_type": "code",
      "source": [
        "model.load_weights('/content/drive/MyDrive/aml/saved/resnet/my_best_model.epoch20-loss14.156.hdf5')"
      ],
      "metadata": {
        "id": "PE5zYN2u2abY"
      },
      "execution_count": null,
      "outputs": []
    },
    {
      "cell_type": "code",
      "source": [
        "history = model.fit_generator(\n",
        "    generator = train_generator,\n",
        "    validation_data=dev_generator, \n",
        "    steps_per_epoch=28709// BS,\n",
        "    validation_steps=3589 // BS,\n",
        "    shuffle=True,\n",
        "    epochs=70,\n",
        "    callbacks=[rlrop,msave]\n",
        ") "
      ],
      "metadata": {
        "id": "-RLrloQl_JvS",
        "colab": {
          "base_uri": "https://localhost:8080/"
        },
        "outputId": "8040f287-75ce-4c75-dab4-319c1b100034"
      },
      "execution_count": null,
      "outputs": [
        {
          "output_type": "stream",
          "name": "stdout",
          "text": [
            "WARNING:tensorflow:From /tensorflow-1.15.2/python3.7/tensorflow_core/python/ops/math_grad.py:1424: where (from tensorflow.python.ops.array_ops) is deprecated and will be removed in a future version.\n",
            "Instructions for updating:\n",
            "Use tf.where in 2.0, which has the same broadcast rule as np.where\n",
            "WARNING:tensorflow:From /usr/local/lib/python3.7/dist-packages/keras/backend/tensorflow_backend.py:1033: The name tf.assign_add is deprecated. Please use tf.compat.v1.assign_add instead.\n",
            "\n",
            "WARNING:tensorflow:From /usr/local/lib/python3.7/dist-packages/keras/backend/tensorflow_backend.py:1020: The name tf.assign is deprecated. Please use tf.compat.v1.assign instead.\n",
            "\n",
            "Epoch 1/70\n",
            "448/448 [==============================] - 320s 715ms/step - loss: 14.3416 - acc: 0.1102 - val_loss: 14.2607 - val_acc: 0.1152\n",
            "Epoch 2/70\n",
            "448/448 [==============================] - 310s 691ms/step - loss: 14.3340 - acc: 0.1107 - val_loss: 14.2479 - val_acc: 0.1160\n",
            "Epoch 3/70\n",
            "448/448 [==============================] - 306s 683ms/step - loss: 14.3384 - acc: 0.1104 - val_loss: 14.2479 - val_acc: 0.1160\n",
            "Epoch 4/70\n",
            "448/448 [==============================] - 307s 684ms/step - loss: 14.3358 - acc: 0.1106 - val_loss: 14.2845 - val_acc: 0.1138\n",
            "Epoch 5/70\n",
            "448/448 [==============================] - 305s 681ms/step - loss: 14.3403 - acc: 0.1103 - val_loss: 14.2159 - val_acc: 0.1180\n",
            "Epoch 6/70\n",
            "448/448 [==============================] - 305s 680ms/step - loss: 14.3456 - acc: 0.1100 - val_loss: 14.2388 - val_acc: 0.1166\n",
            "Epoch 7/70\n",
            "448/448 [==============================] - 303s 677ms/step - loss: 14.3347 - acc: 0.1106 - val_loss: 14.3120 - val_acc: 0.1121\n",
            "Epoch 8/70\n",
            "448/448 [==============================] - 303s 677ms/step - loss: 14.3368 - acc: 0.1105 - val_loss: 14.2525 - val_acc: 0.1157\n",
            "Epoch 9/70\n",
            "448/448 [==============================] - 303s 677ms/step - loss: 14.3411 - acc: 0.1103 - val_loss: 14.2022 - val_acc: 0.1189\n",
            "Epoch 10/70\n",
            "448/448 [==============================] - 303s 675ms/step - loss: 14.3378 - acc: 0.1105 - val_loss: 14.2937 - val_acc: 0.1132\n",
            "\n",
            "Epoch 00010: saving model to /content/drive/MyDrive/aml/saved/resnet/my_best_model.epoch10-loss14.294.hdf5\n",
            "Epoch 11/70\n",
            "448/448 [==============================] - 303s 676ms/step - loss: 14.3336 - acc: 0.1107 - val_loss: 14.2434 - val_acc: 0.1163\n",
            "Epoch 12/70\n",
            "448/448 [==============================] - 303s 676ms/step - loss: 14.3351 - acc: 0.1106 - val_loss: 14.2571 - val_acc: 0.1155\n",
            "Epoch 13/70\n",
            "448/448 [==============================] - 302s 675ms/step - loss: 14.3417 - acc: 0.1102 - val_loss: 14.2525 - val_acc: 0.1157\n",
            "Epoch 14/70\n",
            "448/448 [==============================] - 302s 674ms/step - loss: 14.3386 - acc: 0.1104 - val_loss: 14.2754 - val_acc: 0.1143\n",
            "Epoch 15/70\n",
            "448/448 [==============================] - 302s 674ms/step - loss: 14.3351 - acc: 0.1106 - val_loss: 14.1976 - val_acc: 0.1191\n",
            "Epoch 16/70\n",
            "448/448 [==============================] - 302s 673ms/step - loss: 14.3402 - acc: 0.1103 - val_loss: 14.2891 - val_acc: 0.1135\n",
            "Epoch 17/70\n",
            "448/448 [==============================] - 303s 675ms/step - loss: 14.3399 - acc: 0.1103 - val_loss: 14.2022 - val_acc: 0.1189\n",
            "Epoch 18/70\n",
            "448/448 [==============================] - 306s 684ms/step - loss: 14.3447 - acc: 0.1100 - val_loss: 14.3394 - val_acc: 0.1104\n",
            "Epoch 19/70\n",
            "448/448 [==============================] - 307s 685ms/step - loss: 14.3382 - acc: 0.1104 - val_loss: 14.1565 - val_acc: 0.1217\n",
            "Epoch 20/70\n",
            "448/448 [==============================] - 300s 670ms/step - loss: 14.3273 - acc: 0.1111 - val_loss: 14.2982 - val_acc: 0.1129\n",
            "\n",
            "Epoch 00020: saving model to /content/drive/MyDrive/aml/saved/resnet/my_best_model.epoch20-loss14.298.hdf5\n",
            "Epoch 21/70\n",
            "448/448 [==============================] - 300s 671ms/step - loss: 14.3370 - acc: 0.1105 - val_loss: 14.2982 - val_acc: 0.1129\n",
            "Epoch 22/70\n",
            "448/448 [==============================] - 299s 668ms/step - loss: 14.3384 - acc: 0.1104 - val_loss: 14.2114 - val_acc: 0.1183\n",
            "Epoch 23/70\n",
            "448/448 [==============================] - 300s 669ms/step - loss: 14.3412 - acc: 0.1102 - val_loss: 14.3577 - val_acc: 0.1092\n",
            "Epoch 24/70\n",
            "448/448 [==============================] - 299s 668ms/step - loss: 14.3341 - acc: 0.1107 - val_loss: 14.2068 - val_acc: 0.1186\n",
            "Epoch 25/70\n",
            "448/448 [==============================] - 298s 666ms/step - loss: 14.3422 - acc: 0.1102 - val_loss: 14.2251 - val_acc: 0.1174\n",
            "Epoch 26/70\n",
            "448/448 [==============================] - 298s 664ms/step - loss: 14.3387 - acc: 0.1104 - val_loss: 14.2937 - val_acc: 0.1132\n",
            "Epoch 27/70\n",
            "448/448 [==============================] - 298s 665ms/step - loss: 14.3344 - acc: 0.1107 - val_loss: 14.2708 - val_acc: 0.1146\n",
            "Epoch 28/70\n",
            "448/448 [==============================] - 298s 666ms/step - loss: 14.3294 - acc: 0.1110 - val_loss: 14.2662 - val_acc: 0.1149\n",
            "Epoch 29/70\n",
            "448/448 [==============================] - 298s 665ms/step - loss: 14.3582 - acc: 0.1092 - val_loss: 14.2114 - val_acc: 0.1183\n",
            "\n",
            "Epoch 00029: ReduceLROnPlateau reducing learning rate to 0.004999999888241291.\n",
            "Epoch 30/70\n",
            "448/448 [==============================] - 298s 666ms/step - loss: 14.3298 - acc: 0.1110 - val_loss: 14.1976 - val_acc: 0.1191\n",
            "\n",
            "Epoch 00030: saving model to /content/drive/MyDrive/aml/saved/resnet/my_best_model.epoch30-loss14.198.hdf5\n",
            "Epoch 31/70\n",
            "448/448 [==============================] - 299s 667ms/step - loss: 14.3315 - acc: 0.1108 - val_loss: 14.3348 - val_acc: 0.1106\n",
            "Epoch 32/70\n",
            "448/448 [==============================] - 298s 665ms/step - loss: 14.3476 - acc: 0.1098 - val_loss: 14.2342 - val_acc: 0.1169\n",
            "Epoch 33/70\n",
            "448/448 [==============================] - 298s 665ms/step - loss: 14.3339 - acc: 0.1107 - val_loss: 14.1519 - val_acc: 0.1220\n",
            "Epoch 34/70\n",
            "448/448 [==============================] - 299s 667ms/step - loss: 14.3269 - acc: 0.1111 - val_loss: 14.2982 - val_acc: 0.1129\n",
            "Epoch 35/70\n",
            "448/448 [==============================] - 299s 668ms/step - loss: 14.3507 - acc: 0.1097 - val_loss: 14.2799 - val_acc: 0.1140\n",
            "Epoch 36/70\n",
            "448/448 [==============================] - 300s 669ms/step - loss: 14.3184 - acc: 0.1117 - val_loss: 14.2159 - val_acc: 0.1180\n",
            "Epoch 37/70\n",
            "448/448 [==============================] - 299s 668ms/step - loss: 14.3517 - acc: 0.1096 - val_loss: 14.3165 - val_acc: 0.1118\n",
            "Epoch 38/70\n",
            "448/448 [==============================] - 300s 669ms/step - loss: 14.3436 - acc: 0.1101 - val_loss: 14.1931 - val_acc: 0.1194\n",
            "Epoch 39/70\n",
            "448/448 [==============================] - 300s 669ms/step - loss: 14.3424 - acc: 0.1102 - val_loss: 14.2617 - val_acc: 0.1152\n",
            "Epoch 40/70\n",
            "448/448 [==============================] - 300s 670ms/step - loss: 14.3143 - acc: 0.1119 - val_loss: 14.2708 - val_acc: 0.1146\n",
            "\n",
            "Epoch 00040: saving model to /content/drive/MyDrive/aml/saved/resnet/my_best_model.epoch40-loss14.271.hdf5\n",
            "Epoch 41/70\n",
            "448/448 [==============================] - 300s 670ms/step - loss: 14.3442 - acc: 0.1101 - val_loss: 14.2845 - val_acc: 0.1138\n",
            "Epoch 42/70\n",
            "448/448 [==============================] - 300s 669ms/step - loss: 14.3353 - acc: 0.1106 - val_loss: 14.1839 - val_acc: 0.1200\n",
            "Epoch 43/70\n",
            "448/448 [==============================] - 300s 670ms/step - loss: 14.3320 - acc: 0.1108 - val_loss: 14.2205 - val_acc: 0.1177\n",
            "\n",
            "Epoch 00043: ReduceLROnPlateau reducing learning rate to 0.0024999999441206455.\n",
            "Epoch 44/70\n",
            "448/448 [==============================] - 300s 670ms/step - loss: 14.3477 - acc: 0.1098 - val_loss: 14.3485 - val_acc: 0.1098\n",
            "Epoch 45/70\n",
            "448/448 [==============================] - 301s 672ms/step - loss: 14.3494 - acc: 0.1097 - val_loss: 14.2571 - val_acc: 0.1155\n",
            "Epoch 46/70\n",
            "448/448 [==============================] - 300s 670ms/step - loss: 14.3297 - acc: 0.1110 - val_loss: 14.1976 - val_acc: 0.1191\n",
            "Epoch 47/70\n",
            "448/448 [==============================] - 300s 670ms/step - loss: 14.3406 - acc: 0.1103 - val_loss: 14.3211 - val_acc: 0.1115\n",
            "Epoch 48/70\n",
            " 79/448 [====>.........................] - ETA: 3:40 - loss: 14.3074 - acc: 0.1123"
          ]
        }
      ]
    },
    {
      "cell_type": "code",
      "source": [
        "model.load_weights('/content/drive/MyDrive/aml/saved/resnet/my_best_model.epoch60-loss14.271.hdf5')"
      ],
      "metadata": {
        "id": "JUUjXrQH3y1J"
      },
      "execution_count": null,
      "outputs": []
    },
    {
      "cell_type": "code",
      "source": [
        "history = model.fit_generator(\n",
        "    generator = train_generator,\n",
        "    validation_data=dev_generator, \n",
        "    steps_per_epoch=28709// BS,\n",
        "    validation_steps=3589 // BS,\n",
        "    shuffle=True,\n",
        "    epochs=40,\n",
        "    callbacks=[rlrop,msave]\n",
        ") "
      ],
      "metadata": {
        "colab": {
          "base_uri": "https://localhost:8080/"
        },
        "id": "2wp9BHAqzSYq",
        "outputId": "61273d85-3971-47aa-bedf-fd20433b773d"
      },
      "execution_count": null,
      "outputs": [
        {
          "output_type": "stream",
          "name": "stdout",
          "text": [
            "WARNING:tensorflow:From /tensorflow-1.15.2/python3.7/tensorflow_core/python/ops/math_grad.py:1424: where (from tensorflow.python.ops.array_ops) is deprecated and will be removed in a future version.\n",
            "Instructions for updating:\n",
            "Use tf.where in 2.0, which has the same broadcast rule as np.where\n",
            "WARNING:tensorflow:From /usr/local/lib/python3.7/dist-packages/keras/backend/tensorflow_backend.py:1033: The name tf.assign_add is deprecated. Please use tf.compat.v1.assign_add instead.\n",
            "\n",
            "WARNING:tensorflow:From /usr/local/lib/python3.7/dist-packages/keras/backend/tensorflow_backend.py:1020: The name tf.assign is deprecated. Please use tf.compat.v1.assign instead.\n",
            "\n",
            "Epoch 1/40\n",
            "448/448 [==============================] - 614s 1s/step - loss: 14.3382 - acc: 0.1104 - val_loss: 14.2562 - val_acc: 0.1155\n",
            "Epoch 2/40\n",
            "448/448 [==============================] - 596s 1s/step - loss: 14.3368 - acc: 0.1105 - val_loss: 14.2434 - val_acc: 0.1163\n",
            "Epoch 3/40\n",
            "448/448 [==============================] - 595s 1s/step - loss: 14.3409 - acc: 0.1103 - val_loss: 14.2388 - val_acc: 0.1166\n",
            "Epoch 4/40\n",
            "448/448 [==============================] - 595s 1s/step - loss: 14.3381 - acc: 0.1104 - val_loss: 14.2662 - val_acc: 0.1149\n",
            "Epoch 5/40\n",
            "448/448 [==============================] - 595s 1s/step - loss: 14.3317 - acc: 0.1108 - val_loss: 14.2571 - val_acc: 0.1155\n",
            "Epoch 6/40\n",
            "448/448 [==============================] - 596s 1s/step - loss: 14.3419 - acc: 0.1102 - val_loss: 14.2799 - val_acc: 0.1140\n",
            "Epoch 7/40\n",
            "448/448 [==============================] - 596s 1s/step - loss: 14.3328 - acc: 0.1108 - val_loss: 14.2845 - val_acc: 0.1138\n",
            "Epoch 8/40\n",
            "448/448 [==============================] - 596s 1s/step - loss: 14.3404 - acc: 0.1103 - val_loss: 14.1702 - val_acc: 0.1209\n",
            "Epoch 9/40\n",
            "448/448 [==============================] - 596s 1s/step - loss: 14.3422 - acc: 0.1102 - val_loss: 14.3760 - val_acc: 0.1081\n",
            "Epoch 10/40\n",
            "448/448 [==============================] - 595s 1s/step - loss: 14.3340 - acc: 0.1107 - val_loss: 14.1291 - val_acc: 0.1234\n",
            "\n",
            "Epoch 00010: saving model to /content/drive/MyDrive/aml/saved/resnet/my_best_model.epoch10-loss14.129.hdf5\n",
            "Epoch 11/40\n",
            "448/448 [==============================] - 596s 1s/step - loss: 14.3465 - acc: 0.1099 - val_loss: 14.2937 - val_acc: 0.1132\n",
            "Epoch 12/40\n",
            "448/448 [==============================] - 596s 1s/step - loss: 14.3307 - acc: 0.1109 - val_loss: 14.2479 - val_acc: 0.1160\n",
            "Epoch 13/40\n",
            "448/448 [==============================] - 596s 1s/step - loss: 14.3367 - acc: 0.1105 - val_loss: 14.2662 - val_acc: 0.1149\n",
            "Epoch 14/40\n",
            "448/448 [==============================] - 596s 1s/step - loss: 14.3343 - acc: 0.1107 - val_loss: 14.2388 - val_acc: 0.1166\n",
            "Epoch 15/40\n",
            "448/448 [==============================] - 596s 1s/step - loss: 14.3451 - acc: 0.1100 - val_loss: 14.2525 - val_acc: 0.1157\n",
            "\n",
            "Epoch 00015: ReduceLROnPlateau reducing learning rate to 0.004999999888241291.\n",
            "Epoch 16/40\n",
            "448/448 [==============================] - 595s 1s/step - loss: 14.3361 - acc: 0.1106 - val_loss: 14.2891 - val_acc: 0.1135\n",
            "Epoch 17/40\n",
            "448/448 [==============================] - 596s 1s/step - loss: 14.3333 - acc: 0.1107 - val_loss: 14.2342 - val_acc: 0.1169\n",
            "Epoch 18/40\n",
            "448/448 [==============================] - 595s 1s/step - loss: 14.3481 - acc: 0.1098 - val_loss: 14.2205 - val_acc: 0.1177\n",
            "Epoch 19/40\n",
            "448/448 [==============================] - 595s 1s/step - loss: 14.3243 - acc: 0.1113 - val_loss: 14.2479 - val_acc: 0.1160\n",
            "Epoch 20/40\n",
            "448/448 [==============================] - 596s 1s/step - loss: 14.3357 - acc: 0.1106 - val_loss: 14.3120 - val_acc: 0.1121\n",
            "\n",
            "Epoch 00020: ReduceLROnPlateau reducing learning rate to 0.0024999999441206455.\n",
            "\n",
            "Epoch 00020: saving model to /content/drive/MyDrive/aml/saved/resnet/my_best_model.epoch20-loss14.312.hdf5\n",
            "Epoch 21/40\n",
            "448/448 [==============================] - 597s 1s/step - loss: 14.3483 - acc: 0.1098 - val_loss: 14.2296 - val_acc: 0.1172\n",
            "Epoch 22/40\n",
            "448/448 [==============================] - 596s 1s/step - loss: 14.3211 - acc: 0.1115 - val_loss: 14.2296 - val_acc: 0.1172\n",
            "Epoch 23/40\n",
            "448/448 [==============================] - 596s 1s/step - loss: 14.3597 - acc: 0.1091 - val_loss: 14.2022 - val_acc: 0.1189\n",
            "Epoch 24/40\n",
            "448/448 [==============================] - 596s 1s/step - loss: 14.3340 - acc: 0.1107 - val_loss: 14.4034 - val_acc: 0.1064\n",
            "Epoch 25/40\n",
            "448/448 [==============================] - 596s 1s/step - loss: 14.3339 - acc: 0.1107 - val_loss: 14.2205 - val_acc: 0.1177\n",
            "\n",
            "Epoch 00025: ReduceLROnPlateau reducing learning rate to 0.0012499999720603228.\n",
            "Epoch 26/40\n",
            "448/448 [==============================] - 596s 1s/step - loss: 14.3341 - acc: 0.1107 - val_loss: 14.2022 - val_acc: 0.1189\n",
            "Epoch 27/40\n",
            "448/448 [==============================] - 596s 1s/step - loss: 14.3464 - acc: 0.1099 - val_loss: 14.1976 - val_acc: 0.1191\n",
            "Epoch 28/40\n",
            "448/448 [==============================] - 594s 1s/step - loss: 14.3330 - acc: 0.1108 - val_loss: 14.3805 - val_acc: 0.1078\n",
            "Epoch 29/40\n",
            "448/448 [==============================] - 595s 1s/step - loss: 14.3375 - acc: 0.1105 - val_loss: 14.2571 - val_acc: 0.1155\n",
            "Epoch 30/40\n",
            "448/448 [==============================] - 595s 1s/step - loss: 14.3342 - acc: 0.1107 - val_loss: 14.1931 - val_acc: 0.1194\n",
            "\n",
            "Epoch 00030: ReduceLROnPlateau reducing learning rate to 0.0006249999860301614.\n",
            "\n",
            "Epoch 00030: saving model to /content/drive/MyDrive/aml/saved/resnet/my_best_model.epoch30-loss14.193.hdf5\n",
            "Epoch 31/40\n",
            "448/448 [==============================] - 595s 1s/step - loss: 14.3201 - acc: 0.1116 - val_loss: 14.2662 - val_acc: 0.1149\n",
            "Epoch 32/40\n",
            "448/448 [==============================] - 595s 1s/step - loss: 14.3478 - acc: 0.1098 - val_loss: 14.2342 - val_acc: 0.1169\n",
            "Epoch 33/40\n",
            "448/448 [==============================] - 595s 1s/step - loss: 14.3402 - acc: 0.1103 - val_loss: 14.3028 - val_acc: 0.1126\n",
            "Epoch 34/40\n",
            "448/448 [==============================] - 596s 1s/step - loss: 14.3396 - acc: 0.1103 - val_loss: 14.2068 - val_acc: 0.1186\n",
            "Epoch 35/40\n",
            "448/448 [==============================] - 596s 1s/step - loss: 14.3390 - acc: 0.1104 - val_loss: 14.2068 - val_acc: 0.1186\n",
            "\n",
            "Epoch 00035: ReduceLROnPlateau reducing learning rate to 0.0003124999930150807.\n",
            "Epoch 36/40\n",
            "448/448 [==============================] - 595s 1s/step - loss: 14.3503 - acc: 0.1097 - val_loss: 14.3028 - val_acc: 0.1126\n",
            "Epoch 37/40\n",
            "448/448 [==============================] - 595s 1s/step - loss: 14.3144 - acc: 0.1119 - val_loss: 14.2754 - val_acc: 0.1143\n",
            "Epoch 38/40\n",
            "448/448 [==============================] - 595s 1s/step - loss: 14.3395 - acc: 0.1103 - val_loss: 14.2617 - val_acc: 0.1152\n",
            "Epoch 39/40\n",
            " 86/448 [====>.........................] - ETA: 7:38 - loss: 14.3025 - acc: 0.1126"
          ]
        }
      ]
    },
    {
      "cell_type": "code",
      "source": [
        "model.load_weights('/content/drive/MyDrive/aml/saved/resnet/my_best_model.epoch90-loss14.193.hdf5')"
      ],
      "metadata": {
        "id": "SoZPxX9yzvET"
      },
      "execution_count": null,
      "outputs": []
    },
    {
      "cell_type": "code",
      "source": [
        "history = model.fit_generator(\n",
        "    generator = train_generator,\n",
        "    validation_data=dev_generator, \n",
        "    steps_per_epoch=28709// BS,\n",
        "    validation_steps=3589 // BS,\n",
        "    shuffle=True,\n",
        "    epochs=10,\n",
        "    callbacks=[rlrop,msave]\n",
        ") "
      ],
      "metadata": {
        "colab": {
          "base_uri": "https://localhost:8080/"
        },
        "id": "0y7HgT8-rfVu",
        "outputId": "91474eaa-72ce-4270-e961-571324d736e1"
      },
      "execution_count": null,
      "outputs": [
        {
          "output_type": "stream",
          "name": "stdout",
          "text": [
            "WARNING:tensorflow:From /usr/local/lib/python3.7/dist-packages/keras/backend/tensorflow_backend.py:1033: The name tf.assign_add is deprecated. Please use tf.compat.v1.assign_add instead.\n",
            "\n",
            "WARNING:tensorflow:From /usr/local/lib/python3.7/dist-packages/keras/backend/tensorflow_backend.py:1020: The name tf.assign is deprecated. Please use tf.compat.v1.assign instead.\n",
            "\n",
            "Epoch 1/10\n",
            "448/448 [==============================] - 480s 1s/step - loss: 14.3357 - acc: 0.1106 - val_loss: 14.2517 - val_acc: 0.1158\n",
            "Epoch 2/10\n",
            "448/448 [==============================] - 463s 1s/step - loss: 14.3402 - acc: 0.1103 - val_loss: 14.2571 - val_acc: 0.1155\n",
            "Epoch 3/10\n",
            "448/448 [==============================] - 462s 1s/step - loss: 14.3372 - acc: 0.1105 - val_loss: 14.2708 - val_acc: 0.1146\n",
            "Epoch 4/10\n",
            "448/448 [==============================] - 462s 1s/step - loss: 14.3391 - acc: 0.1104 - val_loss: 14.2434 - val_acc: 0.1163\n",
            "Epoch 5/10\n",
            "448/448 [==============================] - 462s 1s/step - loss: 14.3333 - acc: 0.1107 - val_loss: 14.2571 - val_acc: 0.1155\n",
            "Epoch 6/10\n",
            "448/448 [==============================] - 462s 1s/step - loss: 14.3318 - acc: 0.1108 - val_loss: 14.2342 - val_acc: 0.1169\n",
            "Epoch 7/10\n",
            "448/448 [==============================] - 462s 1s/step - loss: 14.3405 - acc: 0.1103 - val_loss: 14.2937 - val_acc: 0.1132\n",
            "Epoch 8/10\n",
            "448/448 [==============================] - 462s 1s/step - loss: 14.3377 - acc: 0.1105 - val_loss: 14.2342 - val_acc: 0.1169\n",
            "Epoch 9/10\n",
            "448/448 [==============================] - 462s 1s/step - loss: 14.3363 - acc: 0.1105 - val_loss: 14.2708 - val_acc: 0.1146\n",
            "Epoch 10/10\n",
            "448/448 [==============================] - 462s 1s/step - loss: 14.3448 - acc: 0.1100 - val_loss: 14.2754 - val_acc: 0.1143\n",
            "\n",
            "Epoch 00010: saving model to /content/drive/MyDrive/aml/saved/resnet/my_best_model.epoch10-loss14.275.hdf5\n"
          ]
        }
      ]
    },
    {
      "cell_type": "code",
      "source": [
        "epoch_str = '-EPOCHS_' + str(EPOCHS)\n",
        "test_acc = 'test_acc_%.3f' % results_test[1]\n",
        "model.save('/content/drive/MyDrive/aml/models/' + 'RESNET50' + epoch_str + test_acc + '.h5')"
      ],
      "metadata": {
        "id": "p_Ojuu34r6KA"
      },
      "execution_count": null,
      "outputs": []
    },
    {
      "cell_type": "code",
      "source": [
        "model.load_weights('/content/drive/MyDrive/aml/models/RESNET50-EPOCHS_50test_acc_0.116.h5')"
      ],
      "metadata": {
        "id": "F2rRMBFnXRxg"
      },
      "execution_count": null,
      "outputs": []
    },
    {
      "cell_type": "code",
      "source": [
        "results_dev = model.evaluate_generator(dev_generator, 3589 // BS)\n",
        "print('dev loss:', results_dev[0],\", dev acc:\", results_dev[1])"
      ],
      "metadata": {
        "colab": {
          "base_uri": "https://localhost:8080/"
        },
        "id": "3WHmY0snrjXx",
        "outputId": "68a5ac67-7cd0-4bb1-d1b0-2caa455f0121"
      },
      "execution_count": null,
      "outputs": [
        {
          "output_type": "stream",
          "name": "stdout",
          "text": [
            "dev loss: 14.251742124557495 , dev acc: 0.11579241071428571\n"
          ]
        }
      ]
    },
    {
      "cell_type": "code",
      "source": [
        "results_test = model.evaluate_generator(test_generator, 3599 // BS)\n",
        "print('test loss:', results_test[0],\", test acc:\", results_test[1])"
      ],
      "metadata": {
        "colab": {
          "base_uri": "https://localhost:8080/"
        },
        "id": "mw3S1CNRr0Yh",
        "outputId": "7f5c4319-23fe-4655-edf3-c12dea758983"
      },
      "execution_count": null,
      "outputs": [
        {
          "output_type": "stream",
          "name": "stdout",
          "text": [
            "test loss: 14.251742175647191 , test acc: 0.11579241071428571\n"
          ]
        }
      ]
    },
    {
      "cell_type": "code",
      "source": [
        "# list all data in history\n",
        "print(history.history.keys())\n",
        "# summarize history for accuracy\n",
        "plt.plot(history.history['acc'])\n",
        "plt.plot(history.history['val_acc'])\n",
        "plt.title('model accuracy')\n",
        "plt.ylabel('accuracy')\n",
        "plt.xlabel('epoch')\n",
        "plt.legend(['train', 'dev'], loc='upper left')\n",
        "plt.show()\n",
        "# summarize history for loss\n",
        "plt.plot(history.history['loss'])\n",
        "plt.plot(history.history['val_loss'])\n",
        "plt.title('model loss')\n",
        "plt.ylabel('loss')\n",
        "plt.xlabel('epoch')\n",
        "plt.legend(['train', 'dev'], loc='upper left')\n",
        "plt.show()"
      ],
      "metadata": {
        "colab": {
          "base_uri": "https://localhost:8080/",
          "height": 591
        },
        "id": "kUfTcQSar3_a",
        "outputId": "6af3e554-dfdc-4c8e-c819-adde31d54c0e"
      },
      "execution_count": null,
      "outputs": [
        {
          "output_type": "stream",
          "name": "stdout",
          "text": [
            "dict_keys(['val_loss', 'val_acc', 'loss', 'acc', 'lr'])\n"
          ]
        },
        {
          "output_type": "display_data",
          "data": {
            "image/png": "[encoded data removed]",
            "text/plain": [
              "<Figure size 432x288 with 1 Axes>"
            ]
          },
          "metadata": {
            "needs_background": "light"
          }
        },
        {
          "output_type": "display_data",
          "data": {
            "image/png": "[encoded data removed]",
            "text/plain": [
              "<Figure size 432x288 with 1 Axes>"
            ]
          },
          "metadata": {
            "needs_background": "light"
          }
        }
      ]
    },
    {
      "cell_type": "code",
      "source": [
        ""
      ],
      "metadata": {
        "id": "7X9PqhDgsFCf"
      },
      "execution_count": null,
      "outputs": []
    }
  ]
}