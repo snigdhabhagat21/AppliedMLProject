{
  "nbformat": 4,
  "nbformat_minor": 0,
  "metadata": {
    "colab": {
      "name": "RESNET-CW.ipynb",
      "provenance": [],
      "collapsed_sections": []
    },
    "kernelspec": {
      "name": "python3",
      "display_name": "Python 3"
    },
    "language_info": {
      "name": "python"
    },
    "accelerator": "GPU"
  },
  "cells": [
    {
      "cell_type": "code",
      "execution_count": null,
      "metadata": {
        "colab": {
          "base_uri": "https://localhost:8080/"
        },
        "id": "vbv8JtRZm7kh",
        "outputId": "f672c530-cfa7-4b0b-bf48-a8492c36670f"
      },
      "outputs": [
        {
          "output_type": "stream",
          "name": "stdout",
          "text": [
            "Mounted at /content/drive\n"
          ]
        }
      ],
      "source": [
        "from google.colab import drive\n",
        "drive.mount('/content/drive')"
      ]
    },
    {
      "cell_type": "code",
      "source": [
        "%tensorflow_version 1.x\n",
        "!pip install -q keras-vggface\n",
        "!pip install -q scikit-image\n",
        "!pip install -q pydot\n",
        "!pip install -q keras==2.2.5\n",
        "!pip install h5py==2.10.0"
      ],
      "metadata": {
        "colab": {
          "base_uri": "https://localhost:8080/"
        },
        "id": "OEcLQXELnUaV",
        "outputId": "43296796-fa67-4f61-8902-d022241c4488"
      },
      "execution_count": null,
      "outputs": [
        {
          "output_type": "stream",
          "name": "stdout",
          "text": [
            "TensorFlow 1.x selected.\n",
            "Requirement already satisfied: h5py==2.10.0 in /usr/local/lib/python3.7/dist-packages (2.10.0)\n",
            "Requirement already satisfied: numpy>=1.7 in /usr/local/lib/python3.7/dist-packages (from h5py==2.10.0) (1.21.5)\n",
            "Requirement already satisfied: six in /usr/local/lib/python3.7/dist-packages (from h5py==2.10.0) (1.15.0)\n"
          ]
        }
      ]
    },
    {
      "cell_type": "code",
      "source": [
        "import matplotlib.pyplot as plt\n",
        "import pandas as pd\n",
        "import numpy as np\n",
        "\n",
        "import tensorflow as tf\n",
        "from tensorflow.keras.layers import *\n",
        "from tensorflow.python.lib.io import file_io\n",
        "\n",
        "%matplotlib inline\n",
        "\n",
        "import keras\n",
        "from keras import backend as K\n",
        "from keras.callbacks import ModelCheckpoint, EarlyStopping\n",
        "from keras.models import load_model\n",
        "from keras.preprocessing.image import ImageDataGenerator\n",
        "from keras_vggface.vggface import VGGFace\n",
        "from keras.utils import plot_model\n",
        "from sklearn.metrics import *\n",
        "from keras.engine import Model\n",
        "from keras.layers import Input, Flatten, Dense, Activation, Conv2D, MaxPool2D, BatchNormalization, Dropout, MaxPooling2D\n",
        "import skimage\n",
        "from skimage.transform import rescale, resize\n",
        "\n",
        "import pydot"
      ],
      "metadata": {
        "colab": {
          "base_uri": "https://localhost:8080/"
        },
        "id": "SMWJfZsXn0DJ",
        "outputId": "b9c7cf7a-4fb0-40e1-e3c5-8c462f9df1a4"
      },
      "execution_count": null,
      "outputs": [
        {
          "output_type": "stream",
          "name": "stderr",
          "text": [
            "Using TensorFlow backend.\n"
          ]
        }
      ]
    },
    {
      "cell_type": "code",
      "source": [
        "print(tf.__version__)\n",
        "print(keras.__version__)"
      ],
      "metadata": {
        "colab": {
          "base_uri": "https://localhost:8080/"
        },
        "id": "dL2hzTPcn7ID",
        "outputId": "9444d0c2-17f0-4ed8-b93e-ce62766eca92"
      },
      "execution_count": null,
      "outputs": [
        {
          "output_type": "stream",
          "name": "stdout",
          "text": [
            "1.15.2\n",
            "2.2.5\n"
          ]
        }
      ]
    },
    {
      "cell_type": "code",
      "source": [
        "EPOCHS = 50\n",
        "BS = 64\n",
        "DROPOUT_RATE = 0.5\n",
        "FROZEN_LAYER_NUM = 170\n",
        "\n",
        "ADAM_LEARNING_RATE = 0.001\n",
        "SGD_LEARNING_RATE = 0.01\n",
        "SGD_DECAY = 0.0001\n",
        "\n",
        "Resize_pixelsize = 197"
      ],
      "metadata": {
        "id": "L9ru1tUEo56k"
      },
      "execution_count": null,
      "outputs": []
    },
    {
      "cell_type": "code",
      "source": [
        "vgg_notop = VGGFace(model='resnet50', include_top=False, input_shape=(Resize_pixelsize, Resize_pixelsize, 3), pooling='avg')\n",
        "last_layer = vgg_notop.get_layer('avg_pool').output\n",
        "\n",
        "x = Flatten(name='flatten')(last_layer)\n",
        "x = Dropout(DROPOUT_RATE)(x)\n",
        "x = Dense(4096, activation='relu', name='fc6')(x)\n",
        "x = Dropout(DROPOUT_RATE)(x)\n",
        "x = Dense(1024, activation='relu', name='fc7')(x)\n",
        "x = Dropout(DROPOUT_RATE)(x)\n",
        "    \n",
        "batch_norm_indices = [2, 6, 9, 13, 14, 18, 21, 24, 28, 31, 34, 38, 41, 45, 46, 53, 56, 60, 63, 66, 70, 73, 76, 80, 83, 87, 88, 92, 95, 98, 102, 105, 108, 112, 115, 118, 122, 125, 128, 132, 135, 138, 142, 145, 149, 150, 154, 157, 160, 164, 167, 170]\n",
        "for i in range(FROZEN_LAYER_NUM):\n",
        "    if i not in batch_norm_indices:\n",
        "        vgg_notop.layers[i].trainable = False\n",
        "\n",
        "out = Dense(7, activation='softmax', name='classifier')(x)\n",
        "\n",
        "model = Model(vgg_notop.input, out)\n",
        "\n",
        "\n",
        "optim = keras.optimizers.Adam(lr=ADAM_LEARNING_RATE, beta_1=0.9, beta_2=0.999, epsilon=1e-08, decay=0.0)\n",
        "sgd = keras.optimizers.SGD(lr=SGD_LEARNING_RATE, momentum=0.9, decay=SGD_DECAY, nesterov=True)\n",
        "rlrop = keras.callbacks.ReduceLROnPlateau(monitor='val_acc',mode='max',factor=0.5, patience=4, min_lr=0.00001, verbose=1)\n",
        "\n",
        "mfile = '/content/drive/MyDrive/aml/saved/resnet-cw/my_best_model.epoch{epoch:02d}-loss{val_loss:.3f}.hdf5'\n",
        "msave = keras.callbacks.ModelCheckpoint(filepath=mfile,verbose=1, save_weights_only=True,period= 10 )\n",
        "\n",
        "model.compile(optimizer=sgd, loss='categorical_crossentropy', metrics=['accuracy'])\n",
        "print(model)"
      ],
      "metadata": {
        "colab": {
          "base_uri": "https://localhost:8080/"
        },
        "id": "9Kmw9aN8pCe0",
        "outputId": "029ad89d-3390-4007-f8d5-84962394b8ee"
      },
      "execution_count": null,
      "outputs": [
        {
          "output_type": "stream",
          "name": "stdout",
          "text": [
            "WARNING:tensorflow:From /usr/local/lib/python3.7/dist-packages/keras/backend/tensorflow_backend.py:66: The name tf.get_default_graph is deprecated. Please use tf.compat.v1.get_default_graph instead.\n",
            "\n",
            "WARNING:tensorflow:From /usr/local/lib/python3.7/dist-packages/keras/backend/tensorflow_backend.py:541: The name tf.placeholder is deprecated. Please use tf.compat.v1.placeholder instead.\n",
            "\n",
            "WARNING:tensorflow:From /usr/local/lib/python3.7/dist-packages/keras/backend/tensorflow_backend.py:4432: The name tf.random_uniform is deprecated. Please use tf.random.uniform instead.\n",
            "\n",
            "WARNING:tensorflow:From /usr/local/lib/python3.7/dist-packages/keras/backend/tensorflow_backend.py:190: The name tf.get_default_session is deprecated. Please use tf.compat.v1.get_default_session instead.\n",
            "\n",
            "WARNING:tensorflow:From /usr/local/lib/python3.7/dist-packages/keras/backend/tensorflow_backend.py:197: The name tf.ConfigProto is deprecated. Please use tf.compat.v1.ConfigProto instead.\n",
            "\n",
            "WARNING:tensorflow:From /usr/local/lib/python3.7/dist-packages/keras/backend/tensorflow_backend.py:203: The name tf.Session is deprecated. Please use tf.compat.v1.Session instead.\n",
            "\n",
            "WARNING:tensorflow:From /usr/local/lib/python3.7/dist-packages/keras/backend/tensorflow_backend.py:207: The name tf.global_variables is deprecated. Please use tf.compat.v1.global_variables instead.\n",
            "\n",
            "WARNING:tensorflow:From /usr/local/lib/python3.7/dist-packages/keras/backend/tensorflow_backend.py:216: The name tf.is_variable_initialized is deprecated. Please use tf.compat.v1.is_variable_initialized instead.\n",
            "\n",
            "WARNING:tensorflow:From /usr/local/lib/python3.7/dist-packages/keras/backend/tensorflow_backend.py:223: The name tf.variables_initializer is deprecated. Please use tf.compat.v1.variables_initializer instead.\n",
            "\n",
            "WARNING:tensorflow:From /usr/local/lib/python3.7/dist-packages/keras/backend/tensorflow_backend.py:2041: The name tf.nn.fused_batch_norm is deprecated. Please use tf.compat.v1.nn.fused_batch_norm instead.\n",
            "\n",
            "WARNING:tensorflow:From /usr/local/lib/python3.7/dist-packages/keras/backend/tensorflow_backend.py:148: The name tf.placeholder_with_default is deprecated. Please use tf.compat.v1.placeholder_with_default instead.\n",
            "\n",
            "WARNING:tensorflow:From /usr/local/lib/python3.7/dist-packages/keras/backend/tensorflow_backend.py:4267: The name tf.nn.max_pool is deprecated. Please use tf.nn.max_pool2d instead.\n",
            "\n",
            "WARNING:tensorflow:From /usr/local/lib/python3.7/dist-packages/keras/backend/tensorflow_backend.py:4271: The name tf.nn.avg_pool is deprecated. Please use tf.nn.avg_pool2d instead.\n",
            "\n",
            "Downloading data from https://github.com/rcmalli/keras-vggface/releases/download/v2.0/rcmalli_vggface_tf_notop_resnet50.h5\n",
            "94699520/94694792 [==============================] - 1s 0us/step\n",
            "WARNING:tensorflow:From /usr/local/lib/python3.7/dist-packages/keras/backend/tensorflow_backend.py:3733: calling dropout (from tensorflow.python.ops.nn_ops) with keep_prob is deprecated and will be removed in a future version.\n",
            "Instructions for updating:\n",
            "Please use `rate` instead of `keep_prob`. Rate should be set to `rate = 1 - keep_prob`.\n",
            "WARNING:tensorflow:From /usr/local/lib/python3.7/dist-packages/keras/optimizers.py:793: The name tf.train.Optimizer is deprecated. Please use tf.compat.v1.train.Optimizer instead.\n",
            "\n",
            "WARNING:tensorflow:From /usr/local/lib/python3.7/dist-packages/keras/backend/tensorflow_backend.py:3576: The name tf.log is deprecated. Please use tf.math.log instead.\n",
            "\n",
            "<keras.engine.training.Model object at 0x7fbe47717690>\n"
          ]
        }
      ]
    },
    {
      "cell_type": "code",
      "source": [
        "! rm -rf train; mkdir train\n",
        "! unzip -q '/content/drive/MyDrive/aml/datasets/fer2013/train.zip' -d train\n",
        "\n",
        "! rm -rf dev; mkdir dev\n",
        "! unzip -q '/content/drive/MyDrive/aml/datasets/fer2013/test-public.zip' -d dev\n",
        "\n",
        "! rm -rf test; mkdir test\n",
        "! unzip -q '/content/drive/MyDrive/aml/datasets/fer2013/test-private.zip' -d test"
      ],
      "metadata": {
        "id": "MM02JKpUpKfI"
      },
      "execution_count": null,
      "outputs": []
    },
    {
      "cell_type": "code",
      "source": [
        "from tensorflow.keras.preprocessing.image import ImageDataGenerator\n",
        "\n",
        "def get_datagen(dataset, aug=False):\n",
        "    if aug:\n",
        "        datagen = ImageDataGenerator(\n",
        "                            rescale=1./255,\n",
        "                            featurewise_center=False,\n",
        "                            featurewise_std_normalization=False,\n",
        "                            rotation_range=10,\n",
        "                            width_shift_range=0.1,\n",
        "                            height_shift_range=0.1,\n",
        "                            zoom_range=0.1,\n",
        "                            horizontal_flip=True)\n",
        "    else:\n",
        "        datagen = ImageDataGenerator(rescale=1./255)\n",
        "\n",
        "    return datagen.flow_from_directory(\n",
        "            dataset,\n",
        "            target_size=(197, 197),\n",
        "            color_mode='rgb',\n",
        "            shuffle = True,\n",
        "            class_mode='categorical',\n",
        "            batch_size=BS)"
      ],
      "metadata": {
        "id": "8QGUn_d8pqWn"
      },
      "execution_count": null,
      "outputs": []
    },
    {
      "cell_type": "code",
      "source": [
        "train_generator  = get_datagen('/content/train', True)\n",
        "dev_generator    = get_datagen('/content/dev')\n",
        "test_generator  = get_datagen('/content/test')"
      ],
      "metadata": {
        "colab": {
          "base_uri": "https://localhost:8080/"
        },
        "id": "IO-pfqIJpxUi",
        "outputId": "b9598d12-c530-427f-e9b7-21c8f9b9eabd"
      },
      "execution_count": null,
      "outputs": [
        {
          "output_type": "stream",
          "name": "stdout",
          "text": [
            "Found 28709 images belonging to 7 classes.\n",
            "Found 3589 images belonging to 7 classes.\n",
            "Found 3589 images belonging to 7 classes.\n"
          ]
        }
      ]
    },
    {
      "cell_type": "code",
      "source": [
        "from sklearn.utils import class_weight\n",
        "file_stream = file_io.FileIO('/content/drive/MyDrive/aml/datasets/fer2013/dev.csv', mode='r')\n",
        "data = pd.read_csv(file_stream)\n",
        "data['pixels'] = data['pixels'].apply(lambda x: [int(pixel) for pixel in x.split()])\n",
        "X, Y = data['pixels'].tolist(), data['emotion'].values\n",
        "class_weights = class_weight.compute_class_weight(\n",
        "                                        class_weight = \"balanced\",\n",
        "                                        classes = np.unique(Y),\n",
        "                                        y = Y                                                    \n",
        "                                    )"
      ],
      "metadata": {
        "id": "dIRtZcYmp0X-"
      },
      "execution_count": null,
      "outputs": []
    },
    {
      "cell_type": "code",
      "source": [
        "class_weights"
      ],
      "metadata": {
        "colab": {
          "base_uri": "https://localhost:8080/"
        },
        "id": "ax4bufZxrB2E",
        "outputId": "76e74bbb-ff9e-4d8d-863f-3d73d3f5f779"
      },
      "execution_count": null,
      "outputs": [
        {
          "output_type": "execute_result",
          "data": {
            "text/plain": [
              "array([1.09788926, 9.15561224, 1.03369816, 0.57286512, 0.78516736,\n",
              "       1.23545611, 0.84466933])"
            ]
          },
          "metadata": {},
          "execution_count": 11
        }
      ]
    },
    {
      "cell_type": "code",
      "source": [
        "history = model.fit_generator(\n",
        "    generator = train_generator,\n",
        "    validation_data=dev_generator, \n",
        "    steps_per_epoch=28709// BS,\n",
        "    validation_steps=3589 // BS,\n",
        "    shuffle=True,\n",
        "    epochs=100,\n",
        "    callbacks=[rlrop, msave],\n",
        "    class_weight=class_weights\n",
        ") "
      ],
      "metadata": {
        "colab": {
          "base_uri": "https://localhost:8080/"
        },
        "id": "-IJiMKB5rzam",
        "outputId": "0c4fa3ad-89d8-4c10-bdc3-18cd4cdcc360"
      },
      "execution_count": null,
      "outputs": [
        {
          "output_type": "stream",
          "name": "stdout",
          "text": [
            "WARNING:tensorflow:From /tensorflow-1.15.2/python3.7/tensorflow_core/python/ops/math_grad.py:1424: where (from tensorflow.python.ops.array_ops) is deprecated and will be removed in a future version.\n",
            "Instructions for updating:\n",
            "Use tf.where in 2.0, which has the same broadcast rule as np.where\n",
            "WARNING:tensorflow:From /usr/local/lib/python3.7/dist-packages/keras/backend/tensorflow_backend.py:1033: The name tf.assign_add is deprecated. Please use tf.compat.v1.assign_add instead.\n",
            "\n",
            "WARNING:tensorflow:From /usr/local/lib/python3.7/dist-packages/keras/backend/tensorflow_backend.py:1020: The name tf.assign is deprecated. Please use tf.compat.v1.assign instead.\n",
            "\n",
            "Epoch 1/100\n",
            "448/448 [==============================] - 320s 714ms/step - loss: 2.4910 - acc: 0.3827 - val_loss: 1.2456 - val_acc: 0.5491\n",
            "Epoch 2/100\n",
            "448/448 [==============================] - 307s 685ms/step - loss: 1.3273 - acc: 0.5025 - val_loss: 1.1311 - val_acc: 0.5782\n",
            "Epoch 3/100\n",
            "448/448 [==============================] - 307s 685ms/step - loss: 1.2217 - acc: 0.5443 - val_loss: 1.1084 - val_acc: 0.5918\n",
            "Epoch 4/100\n",
            "448/448 [==============================] - 306s 683ms/step - loss: 1.1629 - acc: 0.5663 - val_loss: 1.0752 - val_acc: 0.6065\n",
            "Epoch 5/100\n",
            "448/448 [==============================] - 305s 682ms/step - loss: 1.1222 - acc: 0.5802 - val_loss: 1.0299 - val_acc: 0.6298\n",
            "Epoch 6/100\n",
            "448/448 [==============================] - 306s 682ms/step - loss: 1.0881 - acc: 0.5959 - val_loss: 1.0195 - val_acc: 0.6216\n",
            "Epoch 7/100\n",
            "448/448 [==============================] - 306s 682ms/step - loss: 1.0579 - acc: 0.6011 - val_loss: 1.0109 - val_acc: 0.6241\n",
            "Epoch 8/100\n",
            "448/448 [==============================] - 305s 681ms/step - loss: 1.0405 - acc: 0.6105 - val_loss: 0.9880 - val_acc: 0.6377\n",
            "Epoch 9/100\n",
            "448/448 [==============================] - 305s 682ms/step - loss: 1.0193 - acc: 0.6160 - val_loss: 0.9826 - val_acc: 0.6474\n",
            "Epoch 10/100\n",
            "448/448 [==============================] - 306s 683ms/step - loss: 0.9967 - acc: 0.6250 - val_loss: 0.9497 - val_acc: 0.6542\n",
            "\n",
            "Epoch 00010: saving model to /content/drive/MyDrive/aml/saved/resnet-cw/my_best_model.epoch10-loss0.950.hdf5\n",
            "Epoch 11/100\n",
            "448/448 [==============================] - 305s 681ms/step - loss: 0.9840 - acc: 0.6280 - val_loss: 0.9747 - val_acc: 0.6536\n",
            "Epoch 12/100\n",
            "448/448 [==============================] - 305s 682ms/step - loss: 0.9646 - acc: 0.6405 - val_loss: 0.9744 - val_acc: 0.6491\n",
            "Epoch 13/100\n",
            "448/448 [==============================] - 304s 680ms/step - loss: 0.9512 - acc: 0.6437 - val_loss: 0.9356 - val_acc: 0.6584\n",
            "Epoch 14/100\n",
            "448/448 [==============================] - 304s 678ms/step - loss: 0.9379 - acc: 0.6472 - val_loss: 0.9626 - val_acc: 0.6525\n",
            "Epoch 15/100\n",
            "448/448 [==============================] - 304s 679ms/step - loss: 0.9314 - acc: 0.6515 - val_loss: 0.9371 - val_acc: 0.6652\n",
            "Epoch 16/100\n",
            "448/448 [==============================] - 305s 680ms/step - loss: 0.9055 - acc: 0.6616 - val_loss: 0.9482 - val_acc: 0.6553\n",
            "Epoch 17/100\n",
            "448/448 [==============================] - 305s 681ms/step - loss: 0.9047 - acc: 0.6617 - val_loss: 0.9155 - val_acc: 0.6698\n",
            "Epoch 18/100\n",
            "448/448 [==============================] - 305s 682ms/step - loss: 0.8857 - acc: 0.6678 - val_loss: 0.9210 - val_acc: 0.6757\n",
            "Epoch 19/100\n",
            "448/448 [==============================] - 304s 679ms/step - loss: 0.8696 - acc: 0.6716 - val_loss: 0.9150 - val_acc: 0.6749\n",
            "Epoch 20/100\n",
            "448/448 [==============================] - 304s 679ms/step - loss: 0.8668 - acc: 0.6748 - val_loss: 0.9091 - val_acc: 0.6681\n",
            "\n",
            "Epoch 00020: saving model to /content/drive/MyDrive/aml/saved/resnet-cw/my_best_model.epoch20-loss0.909.hdf5\n",
            "Epoch 21/100\n",
            "448/448 [==============================] - 304s 679ms/step - loss: 0.8554 - acc: 0.6737 - val_loss: 0.9014 - val_acc: 0.6811\n",
            "Epoch 22/100\n",
            "448/448 [==============================] - 303s 677ms/step - loss: 0.8461 - acc: 0.6799 - val_loss: 0.8991 - val_acc: 0.6797\n",
            "Epoch 23/100\n",
            "448/448 [==============================] - 304s 680ms/step - loss: 0.8369 - acc: 0.6865 - val_loss: 0.8827 - val_acc: 0.6888\n",
            "Epoch 24/100\n",
            "448/448 [==============================] - 303s 677ms/step - loss: 0.8339 - acc: 0.6860 - val_loss: 0.9280 - val_acc: 0.6752\n",
            "Epoch 25/100\n",
            "448/448 [==============================] - 304s 678ms/step - loss: 0.8177 - acc: 0.6928 - val_loss: 0.8911 - val_acc: 0.6885\n",
            "Epoch 26/100\n",
            "448/448 [==============================] - 303s 677ms/step - loss: 0.8125 - acc: 0.6947 - val_loss: 0.8786 - val_acc: 0.6803\n",
            "Epoch 27/100\n",
            "448/448 [==============================] - 303s 677ms/step - loss: 0.7984 - acc: 0.6979 - val_loss: 0.8813 - val_acc: 0.6919\n",
            "Epoch 28/100\n",
            "448/448 [==============================] - 304s 678ms/step - loss: 0.7896 - acc: 0.6998 - val_loss: 0.8671 - val_acc: 0.6953\n",
            "Epoch 29/100\n",
            "448/448 [==============================] - 303s 677ms/step - loss: 0.7926 - acc: 0.7011 - val_loss: 0.9089 - val_acc: 0.6891\n",
            "Epoch 30/100\n",
            "448/448 [==============================] - 302s 675ms/step - loss: 0.7747 - acc: 0.7087 - val_loss: 0.8555 - val_acc: 0.6984\n",
            "\n",
            "Epoch 00030: saving model to /content/drive/MyDrive/aml/saved/resnet-cw/my_best_model.epoch30-loss0.855.hdf5\n",
            "Epoch 31/100\n",
            "448/448 [==============================] - 303s 676ms/step - loss: 0.7720 - acc: 0.7066 - val_loss: 0.9049 - val_acc: 0.6774\n",
            "Epoch 32/100\n",
            "448/448 [==============================] - 303s 677ms/step - loss: 0.7658 - acc: 0.7098 - val_loss: 0.8604 - val_acc: 0.6948\n",
            "Epoch 33/100\n",
            "448/448 [==============================] - 303s 676ms/step - loss: 0.7525 - acc: 0.7137 - val_loss: 0.8634 - val_acc: 0.7018\n",
            "Epoch 34/100\n",
            "448/448 [==============================] - 303s 677ms/step - loss: 0.7433 - acc: 0.7157 - val_loss: 0.8777 - val_acc: 0.6905\n",
            "Epoch 35/100\n",
            "448/448 [==============================] - 303s 676ms/step - loss: 0.7423 - acc: 0.7185 - val_loss: 0.8520 - val_acc: 0.7052\n",
            "Epoch 36/100\n",
            "448/448 [==============================] - 303s 677ms/step - loss: 0.7305 - acc: 0.7216 - val_loss: 0.8711 - val_acc: 0.6942\n",
            "Epoch 37/100\n",
            "406/448 [==========================>...] - ETA: 27s - loss: 0.7300 - acc: 0.7230"
          ]
        }
      ]
    },
    {
      "cell_type": "code",
      "source": [
        "model.load_weights('/content/drive/MyDrive/aml/saved/resnet-cw/my_best_model.epoch30-loss0.855.hdf5')"
      ],
      "metadata": {
        "id": "K0gZPOJmXeZn"
      },
      "execution_count": null,
      "outputs": []
    },
    {
      "cell_type": "code",
      "source": [
        "history = model.fit_generator(\n",
        "    generator = train_generator,\n",
        "    validation_data=dev_generator, \n",
        "    steps_per_epoch=28709// BS,\n",
        "    validation_steps=3589 // BS,\n",
        "    shuffle=True,\n",
        "    epochs=70,\n",
        "    callbacks=[rlrop, msave],\n",
        "    class_weight=class_weights\n",
        ") "
      ],
      "metadata": {
        "colab": {
          "base_uri": "https://localhost:8080/"
        },
        "id": "TGn00YynX5v7",
        "outputId": "838b6edb-7360-4259-8cc4-68d6ddc2a4bc"
      },
      "execution_count": null,
      "outputs": [
        {
          "output_type": "stream",
          "name": "stdout",
          "text": [
            "WARNING:tensorflow:From /tensorflow-1.15.2/python3.7/tensorflow_core/python/ops/math_grad.py:1424: where (from tensorflow.python.ops.array_ops) is deprecated and will be removed in a future version.\n",
            "Instructions for updating:\n",
            "Use tf.where in 2.0, which has the same broadcast rule as np.where\n",
            "WARNING:tensorflow:From /usr/local/lib/python3.7/dist-packages/keras/backend/tensorflow_backend.py:1033: The name tf.assign_add is deprecated. Please use tf.compat.v1.assign_add instead.\n",
            "\n",
            "WARNING:tensorflow:From /usr/local/lib/python3.7/dist-packages/keras/backend/tensorflow_backend.py:1020: The name tf.assign is deprecated. Please use tf.compat.v1.assign instead.\n",
            "\n",
            "Epoch 1/70\n",
            "448/448 [==============================] - 471s 1s/step - loss: 0.8207 - acc: 0.6922 - val_loss: 0.8927 - val_acc: 0.6830\n",
            "Epoch 2/70\n",
            "448/448 [==============================] - 454s 1s/step - loss: 0.8185 - acc: 0.6907 - val_loss: 0.8971 - val_acc: 0.6871\n",
            "Epoch 3/70\n",
            "448/448 [==============================] - 453s 1s/step - loss: 0.8059 - acc: 0.6967 - val_loss: 0.9100 - val_acc: 0.6794\n",
            "Epoch 4/70\n",
            "448/448 [==============================] - 453s 1s/step - loss: 0.7964 - acc: 0.7005 - val_loss: 0.8906 - val_acc: 0.6933\n",
            "Epoch 5/70\n",
            "448/448 [==============================] - 453s 1s/step - loss: 0.7921 - acc: 0.7020 - val_loss: 0.8774 - val_acc: 0.6877\n",
            "Epoch 6/70\n",
            "448/448 [==============================] - 453s 1s/step - loss: 0.7687 - acc: 0.7108 - val_loss: 0.8706 - val_acc: 0.6965\n",
            "Epoch 7/70\n",
            "448/448 [==============================] - 453s 1s/step - loss: 0.7633 - acc: 0.7132 - val_loss: 0.8740 - val_acc: 0.6996\n",
            "Epoch 8/70\n",
            "448/448 [==============================] - 453s 1s/step - loss: 0.7490 - acc: 0.7172 - val_loss: 0.8722 - val_acc: 0.6939\n",
            "Epoch 9/70\n",
            "448/448 [==============================] - 453s 1s/step - loss: 0.7346 - acc: 0.7244 - val_loss: 0.8691 - val_acc: 0.7018\n",
            "Epoch 10/70\n",
            "448/448 [==============================] - 453s 1s/step - loss: 0.7341 - acc: 0.7255 - val_loss: 0.8539 - val_acc: 0.7072\n",
            "\n",
            "Epoch 00010: saving model to /content/drive/MyDrive/aml/saved/resnet-cw/my_best_model.epoch10-loss0.854.hdf5\n",
            "Epoch 11/70\n",
            "448/448 [==============================] - 453s 1s/step - loss: 0.7192 - acc: 0.7310 - val_loss: 0.8532 - val_acc: 0.7047\n",
            "Epoch 12/70\n",
            "448/448 [==============================] - 453s 1s/step - loss: 0.7017 - acc: 0.7346 - val_loss: 0.8964 - val_acc: 0.6962\n",
            "Epoch 13/70\n",
            "448/448 [==============================] - 453s 1s/step - loss: 0.6942 - acc: 0.7381 - val_loss: 0.8479 - val_acc: 0.7121\n",
            "Epoch 14/70\n",
            "448/448 [==============================] - 453s 1s/step - loss: 0.6841 - acc: 0.7427 - val_loss: 0.8550 - val_acc: 0.7078\n",
            "Epoch 15/70\n",
            "448/448 [==============================] - 453s 1s/step - loss: 0.6762 - acc: 0.7442 - val_loss: 0.8670 - val_acc: 0.7081\n",
            "Epoch 16/70\n",
            "448/448 [==============================] - 453s 1s/step - loss: 0.6548 - acc: 0.7540 - val_loss: 0.8608 - val_acc: 0.7070\n",
            "Epoch 17/70\n",
            "448/448 [==============================] - 453s 1s/step - loss: 0.6579 - acc: 0.7537 - val_loss: 0.8368 - val_acc: 0.7027\n",
            "Epoch 18/70\n",
            "448/448 [==============================] - 453s 1s/step - loss: 0.6422 - acc: 0.7599 - val_loss: 0.8629 - val_acc: 0.7027\n",
            "Epoch 19/70\n",
            "448/448 [==============================] - 454s 1s/step - loss: 0.6434 - acc: 0.7591 - val_loss: 0.8616 - val_acc: 0.7030\n",
            "Epoch 20/70\n",
            "448/448 [==============================] - 452s 1s/step - loss: 0.6245 - acc: 0.7621 - val_loss: 0.8586 - val_acc: 0.7007\n",
            "\n",
            "Epoch 00020: saving model to /content/drive/MyDrive/aml/saved/resnet-cw/my_best_model.epoch20-loss0.859.hdf5\n",
            "Epoch 21/70\n",
            "448/448 [==============================] - 453s 1s/step - loss: 0.6189 - acc: 0.7673 - val_loss: 0.8342 - val_acc: 0.7183\n",
            "Epoch 22/70\n",
            "448/448 [==============================] - 455s 1s/step - loss: 0.6129 - acc: 0.7710 - val_loss: 0.8592 - val_acc: 0.7084\n",
            "Epoch 23/70\n",
            "448/448 [==============================] - 455s 1s/step - loss: 0.6172 - acc: 0.7678 - val_loss: 0.8598 - val_acc: 0.7035\n",
            "Epoch 24/70\n",
            "448/448 [==============================] - 455s 1s/step - loss: 0.5910 - acc: 0.7767 - val_loss: 0.8555 - val_acc: 0.7061\n",
            "Epoch 25/70\n",
            "448/448 [==============================] - 455s 1s/step - loss: 0.5912 - acc: 0.7753 - val_loss: 0.8418 - val_acc: 0.7138\n",
            "Epoch 26/70\n",
            "448/448 [==============================] - 455s 1s/step - loss: 0.5792 - acc: 0.7824 - val_loss: 0.8492 - val_acc: 0.7098\n",
            "Epoch 27/70\n",
            "448/448 [==============================] - 455s 1s/step - loss: 0.5774 - acc: 0.7823 - val_loss: 0.8703 - val_acc: 0.7072\n",
            "Epoch 28/70\n",
            "448/448 [==============================] - 455s 1s/step - loss: 0.5692 - acc: 0.7843 - val_loss: 0.8480 - val_acc: 0.7143\n",
            "Epoch 29/70\n",
            "448/448 [==============================] - 454s 1s/step - loss: 0.5637 - acc: 0.7894 - val_loss: 0.8758 - val_acc: 0.7044\n",
            "Epoch 30/70\n",
            "448/448 [==============================] - 453s 1s/step - loss: 0.5620 - acc: 0.7890 - val_loss: 0.8461 - val_acc: 0.7155\n",
            "\n",
            "Epoch 00030: saving model to /content/drive/MyDrive/aml/saved/resnet-cw/my_best_model.epoch30-loss0.846.hdf5\n",
            "Epoch 31/70\n",
            "448/448 [==============================] - 453s 1s/step - loss: 0.5498 - acc: 0.7918 - val_loss: 0.8494 - val_acc: 0.7183\n",
            "\n",
            "Epoch 00031: ReduceLROnPlateau reducing learning rate to 0.004999999888241291.\n",
            "Epoch 32/70\n",
            "448/448 [==============================] - 453s 1s/step - loss: 0.5411 - acc: 0.7966 - val_loss: 0.8623 - val_acc: 0.7072\n",
            "Epoch 33/70\n",
            "448/448 [==============================] - 453s 1s/step - loss: 0.5193 - acc: 0.8050 - val_loss: 0.8537 - val_acc: 0.7220\n",
            "Epoch 34/70\n",
            "448/448 [==============================] - 453s 1s/step - loss: 0.5182 - acc: 0.8057 - val_loss: 0.8444 - val_acc: 0.7166\n",
            "Epoch 35/70\n",
            "448/448 [==============================] - 453s 1s/step - loss: 0.5204 - acc: 0.8036 - val_loss: 0.8551 - val_acc: 0.7101\n",
            "Epoch 36/70\n",
            "448/448 [==============================] - 454s 1s/step - loss: 0.5114 - acc: 0.8085 - val_loss: 0.8556 - val_acc: 0.7027\n",
            "Epoch 37/70\n",
            "448/448 [==============================] - 457s 1s/step - loss: 0.5050 - acc: 0.8118 - val_loss: 0.8485 - val_acc: 0.7143\n",
            "Epoch 38/70\n",
            "448/448 [==============================] - 456s 1s/step - loss: 0.4984 - acc: 0.8139 - val_loss: 0.8712 - val_acc: 0.7126\n",
            "Epoch 39/70\n",
            "448/448 [==============================] - 458s 1s/step - loss: 0.4964 - acc: 0.8130 - val_loss: 0.8509 - val_acc: 0.7044\n",
            "Epoch 40/70\n",
            "448/448 [==============================] - 457s 1s/step - loss: 0.4954 - acc: 0.8115 - val_loss: 0.8724 - val_acc: 0.7052\n",
            "\n",
            "Epoch 00040: saving model to /content/drive/MyDrive/aml/saved/resnet-cw/my_best_model.epoch40-loss0.872.hdf5\n",
            "Epoch 41/70\n",
            "448/448 [==============================] - 458s 1s/step - loss: 0.4906 - acc: 0.8164 - val_loss: 0.8429 - val_acc: 0.7078\n",
            "Epoch 42/70\n",
            "448/448 [==============================] - 457s 1s/step - loss: 0.4901 - acc: 0.8151 - val_loss: 0.8607 - val_acc: 0.7121\n",
            "Epoch 43/70\n",
            "448/448 [==============================] - 457s 1s/step - loss: 0.4961 - acc: 0.8132 - val_loss: 0.8903 - val_acc: 0.6948\n",
            "\n",
            "Epoch 00043: ReduceLROnPlateau reducing learning rate to 0.0024999999441206455.\n",
            "Epoch 44/70\n",
            "448/448 [==============================] - 457s 1s/step - loss: 0.4790 - acc: 0.8204 - val_loss: 0.8661 - val_acc: 0.7104\n",
            "Epoch 45/70\n",
            "448/448 [==============================] - 457s 1s/step - loss: 0.4771 - acc: 0.8215 - val_loss: 0.8462 - val_acc: 0.7044\n",
            "Epoch 46/70\n",
            "448/448 [==============================] - 458s 1s/step - loss: 0.4709 - acc: 0.8227 - val_loss: 0.8607 - val_acc: 0.7126\n",
            "Epoch 47/70\n",
            "425/448 [===========================>..] - ETA: 22s - loss: 0.4845 - acc: 0.8173"
          ]
        }
      ]
    },
    {
      "cell_type": "code",
      "source": [
        "model.load_weights('/content/drive/MyDrive/aml/saved/resnet-cw/my_best_model.epoch70-loss0.872.hdf5')"
      ],
      "metadata": {
        "id": "CjiCTFslXmGA"
      },
      "execution_count": null,
      "outputs": []
    },
    {
      "cell_type": "code",
      "source": [
        "history = model.fit_generator(\n",
        "    generator = train_generator,\n",
        "    validation_data=dev_generator, \n",
        "    steps_per_epoch=28709// BS,\n",
        "    validation_steps=3589 // BS,\n",
        "    shuffle=True,\n",
        "    epochs=30,\n",
        "    callbacks=[rlrop, msave],\n",
        "    class_weight=class_weights\n",
        ") "
      ],
      "metadata": {
        "colab": {
          "base_uri": "https://localhost:8080/"
        },
        "id": "98BI-Lpl1dTK",
        "outputId": "f7c5d37d-ea77-45af-a1e0-7b77f1c369b2"
      },
      "execution_count": null,
      "outputs": [
        {
          "output_type": "stream",
          "name": "stdout",
          "text": [
            "WARNING:tensorflow:From /tensorflow-1.15.2/python3.7/tensorflow_core/python/ops/math_grad.py:1424: where (from tensorflow.python.ops.array_ops) is deprecated and will be removed in a future version.\n",
            "Instructions for updating:\n",
            "Use tf.where in 2.0, which has the same broadcast rule as np.where\n",
            "WARNING:tensorflow:From /usr/local/lib/python3.7/dist-packages/keras/backend/tensorflow_backend.py:1033: The name tf.assign_add is deprecated. Please use tf.compat.v1.assign_add instead.\n",
            "\n",
            "WARNING:tensorflow:From /usr/local/lib/python3.7/dist-packages/keras/backend/tensorflow_backend.py:1020: The name tf.assign is deprecated. Please use tf.compat.v1.assign instead.\n",
            "\n",
            "Epoch 1/30\n",
            "448/448 [==============================] - 488s 1s/step - loss: 0.5572 - acc: 0.7877 - val_loss: 0.8515 - val_acc: 0.7146\n",
            "Epoch 2/30\n",
            "448/448 [==============================] - 471s 1s/step - loss: 0.5751 - acc: 0.7850 - val_loss: 0.8711 - val_acc: 0.6967\n",
            "Epoch 3/30\n",
            "448/448 [==============================] - 471s 1s/step - loss: 0.5801 - acc: 0.7831 - val_loss: 0.8634 - val_acc: 0.7095\n",
            "Epoch 4/30\n",
            "448/448 [==============================] - 470s 1s/step - loss: 0.5611 - acc: 0.7917 - val_loss: 0.8679 - val_acc: 0.7055\n",
            "Epoch 5/30\n",
            "448/448 [==============================] - 471s 1s/step - loss: 0.5590 - acc: 0.7909 - val_loss: 0.8845 - val_acc: 0.7021\n",
            "\n",
            "Epoch 00005: ReduceLROnPlateau reducing learning rate to 0.004999999888241291.\n",
            "Epoch 6/30\n",
            "448/448 [==============================] - 470s 1s/step - loss: 0.5245 - acc: 0.8035 - val_loss: 0.8647 - val_acc: 0.7081\n",
            "Epoch 7/30\n",
            "448/448 [==============================] - 471s 1s/step - loss: 0.5067 - acc: 0.8112 - val_loss: 0.8642 - val_acc: 0.7067\n",
            "Epoch 8/30\n",
            "448/448 [==============================] - 471s 1s/step - loss: 0.4926 - acc: 0.8140 - val_loss: 0.8636 - val_acc: 0.7092\n",
            "Epoch 9/30\n",
            "448/448 [==============================] - 470s 1s/step - loss: 0.4848 - acc: 0.8192 - val_loss: 0.8613 - val_acc: 0.7157\n",
            "Epoch 10/30\n",
            "448/448 [==============================] - 470s 1s/step - loss: 0.4776 - acc: 0.8209 - val_loss: 0.9002 - val_acc: 0.6965\n",
            "\n",
            "Epoch 00010: saving model to /content/drive/MyDrive/aml/saved/resnet-cw/my_best_model.epoch10-loss0.900.hdf5\n",
            "Epoch 11/30\n",
            "448/448 [==============================] - 471s 1s/step - loss: 0.4710 - acc: 0.8235 - val_loss: 0.8590 - val_acc: 0.7163\n",
            "Epoch 12/30\n",
            "448/448 [==============================] - 471s 1s/step - loss: 0.4692 - acc: 0.8239 - val_loss: 0.8724 - val_acc: 0.7129\n",
            "Epoch 13/30\n",
            "448/448 [==============================] - 470s 1s/step - loss: 0.4657 - acc: 0.8288 - val_loss: 0.8763 - val_acc: 0.7070\n",
            "Epoch 14/30\n",
            "448/448 [==============================] - 470s 1s/step - loss: 0.4598 - acc: 0.8289 - val_loss: 0.8699 - val_acc: 0.7118\n",
            "Epoch 15/30\n",
            "448/448 [==============================] - 471s 1s/step - loss: 0.4484 - acc: 0.8367 - val_loss: 0.8781 - val_acc: 0.7035\n",
            "\n",
            "Epoch 00015: ReduceLROnPlateau reducing learning rate to 0.0024999999441206455.\n",
            "Epoch 16/30\n",
            "448/448 [==============================] - 471s 1s/step - loss: 0.4460 - acc: 0.8322 - val_loss: 0.8608 - val_acc: 0.7138\n",
            "Epoch 17/30\n",
            "448/448 [==============================] - 468s 1s/step - loss: 0.4387 - acc: 0.8350 - val_loss: 0.8860 - val_acc: 0.7092\n",
            "Epoch 18/30\n",
            "448/448 [==============================] - 467s 1s/step - loss: 0.4335 - acc: 0.8376 - val_loss: 0.8891 - val_acc: 0.7038\n",
            "Epoch 19/30\n",
            "448/448 [==============================] - 468s 1s/step - loss: 0.4332 - acc: 0.8378 - val_loss: 0.8588 - val_acc: 0.7081\n",
            "\n",
            "Epoch 00019: ReduceLROnPlateau reducing learning rate to 0.0012499999720603228.\n",
            "Epoch 20/30\n",
            "448/448 [==============================] - 468s 1s/step - loss: 0.4188 - acc: 0.8429 - val_loss: 0.8826 - val_acc: 0.7200\n",
            "\n",
            "Epoch 00020: saving model to /content/drive/MyDrive/aml/saved/resnet-cw/my_best_model.epoch20-loss0.883.hdf5\n",
            "Epoch 21/30\n",
            "448/448 [==============================] - 468s 1s/step - loss: 0.4226 - acc: 0.8429 - val_loss: 0.8991 - val_acc: 0.7089\n",
            "Epoch 22/30\n",
            "448/448 [==============================] - 468s 1s/step - loss: 0.4121 - acc: 0.8469 - val_loss: 0.8689 - val_acc: 0.7089\n",
            "Epoch 23/30\n",
            "448/448 [==============================] - 468s 1s/step - loss: 0.4173 - acc: 0.8438 - val_loss: 0.8754 - val_acc: 0.7121\n",
            "Epoch 24/30\n",
            "448/448 [==============================] - 468s 1s/step - loss: 0.4170 - acc: 0.8450 - val_loss: 0.8893 - val_acc: 0.7072\n",
            "\n",
            "Epoch 00024: ReduceLROnPlateau reducing learning rate to 0.0006249999860301614.\n",
            "Epoch 25/30\n",
            "448/448 [==============================] - 469s 1s/step - loss: 0.4011 - acc: 0.8514 - val_loss: 0.8678 - val_acc: 0.7172\n",
            "Epoch 26/30\n",
            "448/448 [==============================] - 471s 1s/step - loss: 0.4173 - acc: 0.8445 - val_loss: 0.8927 - val_acc: 0.7118\n",
            "Epoch 27/30\n",
            "448/448 [==============================] - 471s 1s/step - loss: 0.4054 - acc: 0.8509 - val_loss: 0.8846 - val_acc: 0.7092\n",
            "Epoch 28/30\n",
            "426/448 [===========================>..] - ETA: 22s - loss: 0.4149 - acc: 0.8444"
          ]
        }
      ]
    },
    {
      "cell_type": "code",
      "source": [
        "model.load_weights(\"/content/drive/MyDrive/aml/models/RESNET50-CW-EPOCHS_100_test_acc_0.72.hdf5\")"
      ],
      "metadata": {
        "id": "gS1JWC9dsipR"
      },
      "execution_count": null,
      "outputs": []
    },
    {
      "cell_type": "code",
      "source": [
        "results_dev = model.evaluate_generator(dev_generator, 3589 // BS)\n",
        "print('dev loss:', results_dev[0],\", dev acc:\", results_dev[1])"
      ],
      "metadata": {
        "id": "hX62YEtyr6Y-",
        "colab": {
          "base_uri": "https://localhost:8080/"
        },
        "outputId": "6e70cfe9-774b-4f57-c373-b3d0753195ed"
      },
      "execution_count": null,
      "outputs": [
        {
          "output_type": "stream",
          "name": "stdout",
          "text": [
            "dev loss: 0.8762221772755895 , dev acc: 0.7154017857142857\n"
          ]
        }
      ]
    },
    {
      "cell_type": "code",
      "source": [
        "results_test = model.evaluate_generator(test_generator, 3599 // BS)\n",
        "print('test loss:', results_test[0],\", test acc:\", results_test[1])"
      ],
      "metadata": {
        "id": "YKJ4KPrdtrFH",
        "colab": {
          "base_uri": "https://localhost:8080/"
        },
        "outputId": "a64fee6e-6c07-453d-bfbd-88be4d478661"
      },
      "execution_count": null,
      "outputs": [
        {
          "output_type": "stream",
          "name": "stdout",
          "text": [
            "test loss: 0.7861265039869717 , test acc: 0.7310267857142857\n"
          ]
        }
      ]
    },
    {
      "cell_type": "code",
      "source": [
        "# list all data in history\n",
        "print(history.history.keys())\n",
        "# summarize history for accuracy\n",
        "plt.plot(history.history['acc'])\n",
        "plt.plot(history.history['val_acc'])\n",
        "plt.title('model accuracy')\n",
        "plt.ylabel('accuracy')\n",
        "plt.xlabel('epoch')\n",
        "plt.legend(['train', 'dev'], loc='upper left')\n",
        "plt.show()\n",
        "# summarize history for loss\n",
        "plt.plot(history.history['loss'])\n",
        "plt.plot(history.history['val_loss'])\n",
        "plt.title('model loss')\n",
        "plt.ylabel('loss')\n",
        "plt.xlabel('epoch')\n",
        "plt.legend(['train', 'dev'], loc='upper left')\n",
        "plt.show()"
      ],
      "metadata": {
        "id": "aRbU-loettZc"
      },
      "execution_count": null,
      "outputs": []
    },
    {
      "cell_type": "code",
      "source": [
        "epoch_str = '-EPOCHS_' + str(100)\n",
        "test_acc = 'test_acc_%.3f' % results_test[1]\n",
        "model.save('/content/drive/MyDrive/aml/models/' + 'RESNET50-CW' + epoch_str + test_acc + '.h5')"
      ],
      "metadata": {
        "id": "rWF2rxyItvPZ"
      },
      "execution_count": null,
      "outputs": []
    },
    {
      "cell_type": "code",
      "source": [
        ""
      ],
      "metadata": {
        "id": "wKimE5TAt1Sy"
      },
      "execution_count": null,
      "outputs": []
    }
  ]
}