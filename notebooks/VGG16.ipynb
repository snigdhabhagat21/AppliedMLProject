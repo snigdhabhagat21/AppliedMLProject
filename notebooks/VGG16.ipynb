{
  "nbformat": 4,
  "nbformat_minor": 0,
  "metadata": {
    "colab": {
      "name": "VGG16.ipynb",
      "provenance": [],
      "collapsed_sections": []
    },
    "kernelspec": {
      "name": "python3",
      "display_name": "Python 3"
    },
    "language_info": {
      "name": "python"
    },
    "accelerator": "GPU"
  },
  "cells": [
    {
      "cell_type": "code",
      "execution_count": null,
      "metadata": {
        "id": "EJklg8cTJtOC",
        "colab": {
          "base_uri": "https://localhost:8080/"
        },
        "outputId": "db984640-3ace-4f24-afbe-307b61e005e2"
      },
      "outputs": [
        {
          "output_type": "stream",
          "name": "stdout",
          "text": [
            "Drive already mounted at /content/drive; to attempt to forcibly remount, call drive.mount(\"/content/drive\", force_remount=True).\n"
          ]
        }
      ],
      "source": [
        "from google.colab import drive\n",
        "drive.mount('/content/drive')"
      ]
    },
    {
      "cell_type": "code",
      "source": [
        "%tensorflow_version 1.x\n",
        "!pip install -q keras-vggface\n",
        "!pip install -q scikit-image\n",
        "!pip install -q pydot\n",
        "!pip install -q keras==2.2.5\n",
        "!pip install h5py==2.10.0  "
      ],
      "metadata": {
        "colab": {
          "base_uri": "https://localhost:8080/"
        },
        "id": "kvFJfW99KZPK",
        "outputId": "0c86e941-8d3f-49c7-a7c5-248602ae8596"
      },
      "execution_count": null,
      "outputs": [
        {
          "output_type": "stream",
          "name": "stdout",
          "text": [
            "TensorFlow 1.x selected.\n",
            "Requirement already satisfied: h5py==2.10.0 in /usr/local/lib/python3.7/dist-packages (2.10.0)\n",
            "Requirement already satisfied: six in /usr/local/lib/python3.7/dist-packages (from h5py==2.10.0) (1.15.0)\n",
            "Requirement already satisfied: numpy>=1.7 in /usr/local/lib/python3.7/dist-packages (from h5py==2.10.0) (1.21.5)\n"
          ]
        }
      ]
    },
    {
      "cell_type": "code",
      "source": [
        "import matplotlib.pyplot as plt\n",
        "import pandas as pd\n",
        "import numpy as np\n",
        "\n",
        "import tensorflow as tf\n",
        "from tensorflow.keras.layers import *\n",
        "from tensorflow.python.lib.io import file_io\n",
        "\n",
        "%matplotlib inline\n",
        "\n",
        "import keras\n",
        "from keras import backend as K\n",
        "from keras.callbacks import ModelCheckpoint, EarlyStopping\n",
        "from keras.models import load_model\n",
        "from keras.preprocessing.image import ImageDataGenerator\n",
        "from keras_vggface.vggface import VGGFace\n",
        "from keras.utils import plot_model\n",
        "from sklearn.metrics import *\n",
        "from keras.engine import Model\n",
        "from keras.layers import Input, Flatten, Dense, Activation, Conv2D, MaxPool2D, BatchNormalization, Dropout, MaxPooling2D\n",
        "import skimage\n",
        "from skimage.transform import rescale, resize\n",
        "\n",
        "import pydot"
      ],
      "metadata": {
        "colab": {
          "base_uri": "https://localhost:8080/"
        },
        "id": "RWiBFnB6Ksiq",
        "outputId": "995faf27-ef2e-4ad5-b259-e401113161e7"
      },
      "execution_count": null,
      "outputs": [
        {
          "output_type": "stream",
          "name": "stderr",
          "text": [
            "Using TensorFlow backend.\n"
          ]
        }
      ]
    },
    {
      "cell_type": "code",
      "source": [
        "EPOCHS = 50\n",
        "BS = 128\n",
        "DROPOUT_RATE = 0.5\n",
        "FROZEN_LAYER_NUM = 19\n",
        "\n",
        "ADAM_LEARNING_RATE = 0.001\n",
        "SGD_LEARNING_RATE = 0.01\n",
        "SGD_DECAY = 0.0001\n",
        "\n",
        "Resize_pixelsize = 197"
      ],
      "metadata": {
        "id": "u9IXoGEJLGNU"
      },
      "execution_count": null,
      "outputs": []
    },
    {
      "cell_type": "code",
      "source": [
        "vgg_notop = VGGFace(model='vgg16', include_top=False, input_shape=(Resize_pixelsize, Resize_pixelsize, 3), pooling='avg')\n",
        "last_layer = vgg_notop.get_layer('pool5').output\n",
        "x = Flatten(name='flatten')(last_layer)\n",
        "x = Dropout(DROPOUT_RATE)(x)\n",
        "x = Dense(4096, activation='relu', name='fc6')(x)\n",
        "x = Dropout(DROPOUT_RATE)(x)\n",
        "x = Dense(1024, activation='relu', name='fc7')(x)\n",
        "\n",
        "for i in range(FROZEN_LAYER_NUM):\n",
        "    vgg_notop.layers[i].trainable = False\n",
        "\n",
        "out = Dense(7, activation='softmax', name='classifier')(x)\n",
        "\n",
        "model = Model(vgg_notop.input, out)\n",
        "\n",
        "\n",
        "optim = keras.optimizers.Adam(lr=ADAM_LEARNING_RATE, beta_1=0.9, beta_2=0.999, epsilon=1e-08, decay=0.0)\n",
        "#optim = keras.optimizers.Adam(lr=0.0005, beta_1=0.9, beta_2=0.999, epsilon=1e-08, decay=0.0)\n",
        "sgd = keras.optimizers.SGD(lr=SGD_LEARNING_RATE, momentum=0.9, decay=SGD_DECAY, nesterov=True)\n",
        "rlrop = keras.callbacks.ReduceLROnPlateau(monitor='val_acc',mode='max',factor=0.5, patience=10, min_lr=0.00001, verbose=1)\n",
        "\n",
        "mfile = '/content/drive/MyDrive/aml/saved/vgg/my_best_model.epoch{epoch:02d}-loss{val_loss:.3f}.hdf5'\n",
        "msave = keras.callbacks.ModelCheckpoint(filepath=mfile,verbose=1, save_weights_only=True,period= 10 )\n",
        "\n",
        "model.compile(optimizer=sgd, loss='categorical_crossentropy', metrics=['accuracy'])"
      ],
      "metadata": {
        "colab": {
          "base_uri": "https://localhost:8080/"
        },
        "id": "k_kCY9AOLMq7",
        "outputId": "a5fda71b-2232-40c6-b2cf-311cb928cb94"
      },
      "execution_count": null,
      "outputs": [
        {
          "output_type": "stream",
          "name": "stdout",
          "text": [
            "WARNING:tensorflow:From /usr/local/lib/python3.7/dist-packages/keras/backend/tensorflow_backend.py:66: The name tf.get_default_graph is deprecated. Please use tf.compat.v1.get_default_graph instead.\n",
            "\n",
            "WARNING:tensorflow:From /usr/local/lib/python3.7/dist-packages/keras/backend/tensorflow_backend.py:541: The name tf.placeholder is deprecated. Please use tf.compat.v1.placeholder instead.\n",
            "\n",
            "WARNING:tensorflow:From /usr/local/lib/python3.7/dist-packages/keras/backend/tensorflow_backend.py:4432: The name tf.random_uniform is deprecated. Please use tf.random.uniform instead.\n",
            "\n",
            "WARNING:tensorflow:From /usr/local/lib/python3.7/dist-packages/keras/backend/tensorflow_backend.py:4267: The name tf.nn.max_pool is deprecated. Please use tf.nn.max_pool2d instead.\n",
            "\n",
            "Downloading data from https://github.com/rcmalli/keras-vggface/releases/download/v2.0/rcmalli_vggface_tf_notop_vgg16.h5\n",
            "58916864/58909280 [==============================] - 1s 0us/step\n",
            "WARNING:tensorflow:From /usr/local/lib/python3.7/dist-packages/keras/backend/tensorflow_backend.py:190: The name tf.get_default_session is deprecated. Please use tf.compat.v1.get_default_session instead.\n",
            "\n",
            "WARNING:tensorflow:From /usr/local/lib/python3.7/dist-packages/keras/backend/tensorflow_backend.py:197: The name tf.ConfigProto is deprecated. Please use tf.compat.v1.ConfigProto instead.\n",
            "\n",
            "WARNING:tensorflow:From /usr/local/lib/python3.7/dist-packages/keras/backend/tensorflow_backend.py:203: The name tf.Session is deprecated. Please use tf.compat.v1.Session instead.\n",
            "\n",
            "WARNING:tensorflow:From /usr/local/lib/python3.7/dist-packages/keras/backend/tensorflow_backend.py:207: The name tf.global_variables is deprecated. Please use tf.compat.v1.global_variables instead.\n",
            "\n",
            "WARNING:tensorflow:From /usr/local/lib/python3.7/dist-packages/keras/backend/tensorflow_backend.py:216: The name tf.is_variable_initialized is deprecated. Please use tf.compat.v1.is_variable_initialized instead.\n",
            "\n",
            "WARNING:tensorflow:From /usr/local/lib/python3.7/dist-packages/keras/backend/tensorflow_backend.py:223: The name tf.variables_initializer is deprecated. Please use tf.compat.v1.variables_initializer instead.\n",
            "\n",
            "WARNING:tensorflow:From /usr/local/lib/python3.7/dist-packages/keras/backend/tensorflow_backend.py:148: The name tf.placeholder_with_default is deprecated. Please use tf.compat.v1.placeholder_with_default instead.\n",
            "\n",
            "WARNING:tensorflow:From /usr/local/lib/python3.7/dist-packages/keras/backend/tensorflow_backend.py:3733: calling dropout (from tensorflow.python.ops.nn_ops) with keep_prob is deprecated and will be removed in a future version.\n",
            "Instructions for updating:\n",
            "Please use `rate` instead of `keep_prob`. Rate should be set to `rate = 1 - keep_prob`.\n",
            "WARNING:tensorflow:From /usr/local/lib/python3.7/dist-packages/keras/optimizers.py:793: The name tf.train.Optimizer is deprecated. Please use tf.compat.v1.train.Optimizer instead.\n",
            "\n",
            "WARNING:tensorflow:From /usr/local/lib/python3.7/dist-packages/keras/backend/tensorflow_backend.py:3576: The name tf.log is deprecated. Please use tf.math.log instead.\n",
            "\n"
          ]
        }
      ]
    },
    {
      "cell_type": "code",
      "source": [
        "! rm -rf train; mkdir train\n",
        "! unzip -q '/content/drive/MyDrive/aml/datasets/fer2013/train.zip' -d train\n",
        "\n",
        "! rm -rf dev; mkdir dev\n",
        "! unzip -q '/content/drive/MyDrive/aml/datasets/fer2013/test-public.zip' -d dev\n",
        "\n",
        "! rm -rf test; mkdir test\n",
        "! unzip -q '/content/drive/MyDrive/aml/datasets/fer2013/test-private.zip' -d test"
      ],
      "metadata": {
        "id": "g8sR_cfyLWIR"
      },
      "execution_count": null,
      "outputs": []
    },
    {
      "cell_type": "code",
      "source": [
        "from tensorflow.keras.preprocessing.image import ImageDataGenerator\n",
        "\n",
        "def get_datagen(dataset, aug=False):\n",
        "    if aug:\n",
        "        datagen = ImageDataGenerator(\n",
        "                            rescale=1./255,\n",
        "                            featurewise_center=False,\n",
        "                            featurewise_std_normalization=False,\n",
        "                            rotation_range=10,\n",
        "                            width_shift_range=0.1,\n",
        "                            height_shift_range=0.1,\n",
        "                            zoom_range=0.1,\n",
        "                            horizontal_flip=True)\n",
        "    else:\n",
        "        datagen = ImageDataGenerator(rescale=1./255)\n",
        "\n",
        "    return datagen.flow_from_directory(\n",
        "            dataset,\n",
        "            target_size=(197, 197),\n",
        "            color_mode='rgb',\n",
        "            shuffle = True,\n",
        "            class_mode='categorical',\n",
        "            batch_size=BS)"
      ],
      "metadata": {
        "id": "J-39sgXNLeZC"
      },
      "execution_count": null,
      "outputs": []
    },
    {
      "cell_type": "code",
      "source": [
        "train_generator  = get_datagen('/content/train', True)\n",
        "dev_generator    = get_datagen('/content/dev')\n",
        "test_generator  = get_datagen('/content/test')"
      ],
      "metadata": {
        "colab": {
          "base_uri": "https://localhost:8080/"
        },
        "id": "MN17uZ8WLzwB",
        "outputId": "2ca320cf-45f2-44fd-c09b-515321bf79e0"
      },
      "execution_count": null,
      "outputs": [
        {
          "output_type": "stream",
          "name": "stdout",
          "text": [
            "Found 28709 images belonging to 7 classes.\n",
            "Found 3589 images belonging to 7 classes.\n",
            "Found 3589 images belonging to 7 classes.\n"
          ]
        }
      ]
    },
    {
      "cell_type": "code",
      "source": [
        ""
      ],
      "metadata": {
        "id": "TAZBji8C09Vv"
      },
      "execution_count": null,
      "outputs": []
    },
    {
      "cell_type": "code",
      "source": [
        "history = model.fit_generator(\n",
        "    generator = train_generator,\n",
        "    validation_data=dev_generator, \n",
        "    steps_per_epoch=28709// BS,\n",
        "    validation_steps=3589 // BS,\n",
        "    shuffle=True,\n",
        "    epochs=100,\n",
        "    callbacks=[rlrop, msave],\n",
        "    use_multiprocessing=False,\n",
        ") "
      ],
      "metadata": {
        "colab": {
          "base_uri": "https://localhost:8080/"
        },
        "id": "6bXUaXY8L2EE",
        "outputId": "87af5444-95b3-406a-8690-e785236b9d50"
      },
      "execution_count": null,
      "outputs": [
        {
          "output_type": "stream",
          "name": "stdout",
          "text": [
            "WARNING:tensorflow:From /tensorflow-1.15.2/python3.7/tensorflow_core/python/ops/math_grad.py:1424: where (from tensorflow.python.ops.array_ops) is deprecated and will be removed in a future version.\n",
            "Instructions for updating:\n",
            "Use tf.where in 2.0, which has the same broadcast rule as np.where\n",
            "WARNING:tensorflow:From /usr/local/lib/python3.7/dist-packages/keras/backend/tensorflow_backend.py:1033: The name tf.assign_add is deprecated. Please use tf.compat.v1.assign_add instead.\n",
            "\n",
            "WARNING:tensorflow:From /usr/local/lib/python3.7/dist-packages/keras/backend/tensorflow_backend.py:1020: The name tf.assign is deprecated. Please use tf.compat.v1.assign instead.\n",
            "\n",
            "Epoch 1/100\n",
            "224/224 [==============================] - 363s 2s/step - loss: 1.4485 - acc: 0.4508 - val_loss: 1.1859 - val_acc: 0.5700\n",
            "Epoch 2/100\n",
            "224/224 [==============================] - 347s 2s/step - loss: 1.1922 - acc: 0.5548 - val_loss: 1.1108 - val_acc: 0.5874\n",
            "Epoch 3/100\n",
            "224/224 [==============================] - 346s 2s/step - loss: 1.1493 - acc: 0.5713 - val_loss: 1.0813 - val_acc: 0.5998\n",
            "Epoch 4/100\n",
            "224/224 [==============================] - 348s 2s/step - loss: 1.1191 - acc: 0.5827 - val_loss: 1.0500 - val_acc: 0.6047\n",
            "Epoch 5/100\n",
            "224/224 [==============================] - 342s 2s/step - loss: 1.0984 - acc: 0.5879 - val_loss: 1.0411 - val_acc: 0.6056\n",
            "Epoch 6/100\n",
            "224/224 [==============================] - 343s 2s/step - loss: 1.0761 - acc: 0.5991 - val_loss: 1.0336 - val_acc: 0.6206\n",
            "Epoch 7/100\n",
            "224/224 [==============================] - 340s 2s/step - loss: 1.0667 - acc: 0.5985 - val_loss: 1.0074 - val_acc: 0.6131\n",
            "Epoch 8/100\n",
            "224/224 [==============================] - 338s 2s/step - loss: 1.0454 - acc: 0.6110 - val_loss: 1.0073 - val_acc: 0.6235\n",
            "Epoch 9/100\n",
            "224/224 [==============================] - 340s 2s/step - loss: 1.0337 - acc: 0.6131 - val_loss: 1.0039 - val_acc: 0.6258\n",
            "Epoch 10/100\n",
            "224/224 [==============================] - 338s 2s/step - loss: 1.0253 - acc: 0.6189 - val_loss: 0.9711 - val_acc: 0.6351\n",
            "\n",
            "Epoch 00010: saving model to /content/drive/MyDrive/aml/saved/vgg/my_best_model.epoch10-loss0.971.hdf5\n",
            "Epoch 11/100\n",
            "224/224 [==============================] - 340s 2s/step - loss: 1.0181 - acc: 0.6189 - val_loss: 0.9883 - val_acc: 0.6253\n",
            "Epoch 12/100\n",
            "224/224 [==============================] - 336s 1s/step - loss: 1.0002 - acc: 0.6255 - val_loss: 0.9930 - val_acc: 0.6212\n",
            "Epoch 13/100\n",
            "224/224 [==============================] - 330s 1s/step - loss: 0.9902 - acc: 0.6282 - val_loss: 0.9920 - val_acc: 0.6331\n",
            "Epoch 14/100\n",
            "224/224 [==============================] - 340s 2s/step - loss: 0.9817 - acc: 0.6337 - val_loss: 0.9650 - val_acc: 0.6409\n",
            "Epoch 15/100\n",
            "224/224 [==============================] - 332s 1s/step - loss: 0.9664 - acc: 0.6379 - val_loss: 0.9606 - val_acc: 0.6368\n",
            "Epoch 16/100\n",
            "224/224 [==============================] - 333s 1s/step - loss: 0.9619 - acc: 0.6394 - val_loss: 0.9763 - val_acc: 0.6423\n",
            "Epoch 17/100\n",
            "224/224 [==============================] - 333s 1s/step - loss: 0.9529 - acc: 0.6411 - val_loss: 0.9541 - val_acc: 0.6472\n",
            "Epoch 18/100\n",
            "224/224 [==============================] - 333s 1s/step - loss: 0.9457 - acc: 0.6464 - val_loss: 0.9490 - val_acc: 0.6440\n",
            "Epoch 19/100\n",
            "224/224 [==============================] - 332s 1s/step - loss: 0.9328 - acc: 0.6541 - val_loss: 0.9638 - val_acc: 0.6466\n",
            "Epoch 20/100\n",
            "224/224 [==============================] - 332s 1s/step - loss: 0.9301 - acc: 0.6497 - val_loss: 0.9706 - val_acc: 0.6273\n",
            "\n",
            "Epoch 00020: saving model to /content/drive/MyDrive/aml/saved/vgg/my_best_model.epoch20-loss0.971.hdf5\n",
            "Epoch 21/100\n",
            "224/224 [==============================] - 331s 1s/step - loss: 0.9205 - acc: 0.6580 - val_loss: 0.9380 - val_acc: 0.6515\n",
            "Epoch 22/100\n",
            "224/224 [==============================] - 330s 1s/step - loss: 0.9203 - acc: 0.6545 - val_loss: 0.9375 - val_acc: 0.6513\n",
            "Epoch 23/100\n",
            "224/224 [==============================] - 335s 1s/step - loss: 0.9031 - acc: 0.6618 - val_loss: 0.9349 - val_acc: 0.6524\n",
            "Epoch 24/100\n",
            "224/224 [==============================] - 329s 1s/step - loss: 0.9016 - acc: 0.6632 - val_loss: 0.9332 - val_acc: 0.6614\n",
            "Epoch 25/100\n",
            "224/224 [==============================] - 330s 1s/step - loss: 0.8915 - acc: 0.6680 - val_loss: 0.9386 - val_acc: 0.6570\n",
            "Epoch 26/100\n",
            "224/224 [==============================] - 331s 1s/step - loss: 0.8815 - acc: 0.6718 - val_loss: 0.9502 - val_acc: 0.6544\n",
            "Epoch 27/100\n",
            "224/224 [==============================] - 327s 1s/step - loss: 0.8782 - acc: 0.6759 - val_loss: 0.9220 - val_acc: 0.6556\n",
            "Epoch 28/100\n",
            "224/224 [==============================] - 328s 1s/step - loss: 0.8662 - acc: 0.6761 - val_loss: 0.9368 - val_acc: 0.6593\n",
            "Epoch 29/100\n",
            "224/224 [==============================] - 330s 1s/step - loss: 0.8648 - acc: 0.6776 - val_loss: 0.9314 - val_acc: 0.6634\n",
            "Epoch 30/100\n",
            "224/224 [==============================] - 328s 1s/step - loss: 0.8617 - acc: 0.6800 - val_loss: 0.9339 - val_acc: 0.6529\n",
            "\n",
            "Epoch 00030: saving model to /content/drive/MyDrive/aml/saved/vgg/my_best_model.epoch30-loss0.934.hdf5\n",
            "Epoch 31/100\n",
            "224/224 [==============================] - 327s 1s/step - loss: 0.8424 - acc: 0.6859 - val_loss: 0.9241 - val_acc: 0.6619\n",
            "Epoch 32/100\n",
            "224/224 [==============================] - 329s 1s/step - loss: 0.8460 - acc: 0.6844 - val_loss: 0.9346 - val_acc: 0.6640\n",
            "Epoch 33/100\n",
            "224/224 [==============================] - 327s 1s/step - loss: 0.8328 - acc: 0.6891 - val_loss: 0.9276 - val_acc: 0.6599\n",
            "Epoch 34/100\n",
            "224/224 [==============================] - 328s 1s/step - loss: 0.8217 - acc: 0.6969 - val_loss: 0.9165 - val_acc: 0.6695\n",
            "Epoch 35/100\n",
            "224/224 [==============================] - 327s 1s/step - loss: 0.8260 - acc: 0.6925 - val_loss: 0.9375 - val_acc: 0.6541\n",
            "Epoch 36/100\n",
            "224/224 [==============================] - 329s 1s/step - loss: 0.8231 - acc: 0.6951 - val_loss: 0.9187 - val_acc: 0.6643\n",
            "Epoch 37/100\n",
            "224/224 [==============================] - 329s 1s/step - loss: 0.8050 - acc: 0.7014 - val_loss: 0.9091 - val_acc: 0.6729\n",
            "Epoch 38/100\n",
            "161/224 [====================>.........] - ETA: 1:24 - loss: 0.7980 - acc: 0.7040"
          ]
        }
      ]
    },
    {
      "cell_type": "code",
      "source": [
        "model.load_weights('/content/drive/MyDrive/aml/saved/vgg/my_best_model.epoch30-loss0.934.hdf5')"
      ],
      "metadata": {
        "id": "pke-V3Sr3Itm"
      },
      "execution_count": null,
      "outputs": []
    },
    {
      "cell_type": "code",
      "source": [
        "history = model.fit_generator(\n",
        "    generator = train_generator,\n",
        "    validation_data=dev_generator, \n",
        "    steps_per_epoch=28709// BS,\n",
        "    validation_steps=3589 // BS,\n",
        "    shuffle=True,\n",
        "    epochs=70,\n",
        "    callbacks=[rlrop, msave],\n",
        "    use_multiprocessing=False,\n",
        ") "
      ],
      "metadata": {
        "colab": {
          "base_uri": "https://localhost:8080/"
        },
        "id": "tT61ugJm3RAL",
        "outputId": "116abd21-ddf6-4a93-a030-208be66ad33c"
      },
      "execution_count": null,
      "outputs": [
        {
          "output_type": "stream",
          "name": "stdout",
          "text": [
            "WARNING:tensorflow:From /tensorflow-1.15.2/python3.7/tensorflow_core/python/ops/math_grad.py:1424: where (from tensorflow.python.ops.array_ops) is deprecated and will be removed in a future version.\n",
            "Instructions for updating:\n",
            "Use tf.where in 2.0, which has the same broadcast rule as np.where\n",
            "WARNING:tensorflow:From /usr/local/lib/python3.7/dist-packages/keras/backend/tensorflow_backend.py:1033: The name tf.assign_add is deprecated. Please use tf.compat.v1.assign_add instead.\n",
            "\n",
            "WARNING:tensorflow:From /usr/local/lib/python3.7/dist-packages/keras/backend/tensorflow_backend.py:1020: The name tf.assign is deprecated. Please use tf.compat.v1.assign instead.\n",
            "\n",
            "Epoch 1/70\n",
            "224/224 [==============================] - 362s 2s/step - loss: 0.8587 - acc: 0.6813 - val_loss: 0.9267 - val_acc: 0.6596\n",
            "Epoch 2/70\n",
            "224/224 [==============================] - 350s 2s/step - loss: 0.8564 - acc: 0.6814 - val_loss: 0.9275 - val_acc: 0.6625\n",
            "Epoch 3/70\n",
            "224/224 [==============================] - 355s 2s/step - loss: 0.8448 - acc: 0.6856 - val_loss: 0.9270 - val_acc: 0.6625\n",
            "Epoch 4/70\n",
            "224/224 [==============================] - 354s 2s/step - loss: 0.8428 - acc: 0.6888 - val_loss: 0.9232 - val_acc: 0.6663\n",
            "Epoch 5/70\n",
            "224/224 [==============================] - 349s 2s/step - loss: 0.8371 - acc: 0.6881 - val_loss: 0.9361 - val_acc: 0.6611\n",
            "Epoch 6/70\n",
            "224/224 [==============================] - 350s 2s/step - loss: 0.8256 - acc: 0.6920 - val_loss: 0.9139 - val_acc: 0.6723\n",
            "Epoch 7/70\n",
            "224/224 [==============================] - 349s 2s/step - loss: 0.8177 - acc: 0.6967 - val_loss: 0.9227 - val_acc: 0.6697\n",
            "Epoch 8/70\n",
            "224/224 [==============================] - 348s 2s/step - loss: 0.8169 - acc: 0.6948 - val_loss: 0.9027 - val_acc: 0.6686\n",
            "Epoch 9/70\n",
            "224/224 [==============================] - 347s 2s/step - loss: 0.7937 - acc: 0.7060 - val_loss: 0.9280 - val_acc: 0.6608\n",
            "Epoch 10/70\n",
            "224/224 [==============================] - 349s 2s/step - loss: 0.7891 - acc: 0.7075 - val_loss: 0.9116 - val_acc: 0.6767\n",
            "\n",
            "Epoch 00010: saving model to /content/drive/MyDrive/aml/saved/vgg/my_best_model.epoch10-loss0.912.hdf5\n",
            "Epoch 11/70\n",
            "224/224 [==============================] - 349s 2s/step - loss: 0.7803 - acc: 0.7075 - val_loss: 0.9176 - val_acc: 0.6700\n",
            "Epoch 12/70\n",
            "224/224 [==============================] - 348s 2s/step - loss: 0.7790 - acc: 0.7093 - val_loss: 0.9084 - val_acc: 0.6775\n",
            "Epoch 13/70\n",
            "224/224 [==============================] - 347s 2s/step - loss: 0.7600 - acc: 0.7188 - val_loss: 0.9104 - val_acc: 0.6700\n",
            "Epoch 14/70\n",
            "224/224 [==============================] - 348s 2s/step - loss: 0.7487 - acc: 0.7222 - val_loss: 0.9161 - val_acc: 0.6790\n",
            "Epoch 15/70\n",
            "224/224 [==============================] - 347s 2s/step - loss: 0.7536 - acc: 0.7211 - val_loss: 0.9113 - val_acc: 0.6804\n",
            "Epoch 16/70\n",
            "224/224 [==============================] - 346s 2s/step - loss: 0.7452 - acc: 0.7241 - val_loss: 0.9023 - val_acc: 0.6778\n",
            "Epoch 17/70\n",
            "224/224 [==============================] - 345s 2s/step - loss: 0.7368 - acc: 0.7272 - val_loss: 0.9403 - val_acc: 0.6683\n",
            "Epoch 18/70\n",
            "224/224 [==============================] - 344s 2s/step - loss: 0.7272 - acc: 0.7300 - val_loss: 0.9228 - val_acc: 0.6758\n",
            "Epoch 19/70\n",
            "223/224 [============================>.] - ETA: 1s - loss: 0.7181 - acc: 0.7341"
          ]
        }
      ]
    },
    {
      "cell_type": "code",
      "source": [
        "model.load_weights('/content/drive/MyDrive/aml/saved/vgg/my_best_model.epoch40-loss0.912.hdf5')"
      ],
      "metadata": {
        "id": "40_tdpiETCC_"
      },
      "execution_count": null,
      "outputs": []
    },
    {
      "cell_type": "code",
      "source": [
        "history = model.fit_generator(\n",
        "    generator = train_generator,\n",
        "    validation_data=dev_generator, \n",
        "    steps_per_epoch=28709// BS,\n",
        "    validation_steps=3589 // BS,\n",
        "    shuffle=True,\n",
        "    epochs=60,\n",
        "    callbacks=[rlrop, msave],\n",
        "    use_multiprocessing=False,\n",
        ") "
      ],
      "metadata": {
        "colab": {
          "base_uri": "https://localhost:8080/"
        },
        "id": "SMYKuROeTIQa",
        "outputId": "984ed4a0-e7ea-4427-949c-37f2f5187ab8"
      },
      "execution_count": null,
      "outputs": [
        {
          "output_type": "stream",
          "name": "stdout",
          "text": [
            "WARNING:tensorflow:From /tensorflow-1.15.2/python3.7/tensorflow_core/python/ops/math_grad.py:1424: where (from tensorflow.python.ops.array_ops) is deprecated and will be removed in a future version.\n",
            "Instructions for updating:\n",
            "Use tf.where in 2.0, which has the same broadcast rule as np.where\n",
            "WARNING:tensorflow:From /usr/local/lib/python3.7/dist-packages/keras/backend/tensorflow_backend.py:1033: The name tf.assign_add is deprecated. Please use tf.compat.v1.assign_add instead.\n",
            "\n",
            "WARNING:tensorflow:From /usr/local/lib/python3.7/dist-packages/keras/backend/tensorflow_backend.py:1020: The name tf.assign is deprecated. Please use tf.compat.v1.assign instead.\n",
            "\n",
            "Epoch 1/60\n",
            "224/224 [==============================] - 371s 2s/step - loss: 0.7906 - acc: 0.7066 - val_loss: 0.9125 - val_acc: 0.6699\n",
            "Epoch 2/60\n",
            "224/224 [==============================] - 361s 2s/step - loss: 0.7807 - acc: 0.7074 - val_loss: 0.9233 - val_acc: 0.6738\n",
            "Epoch 3/60\n",
            "224/224 [==============================] - 356s 2s/step - loss: 0.7778 - acc: 0.7106 - val_loss: 0.9072 - val_acc: 0.6787\n",
            "Epoch 4/60\n",
            "224/224 [==============================] - 354s 2s/step - loss: 0.7709 - acc: 0.7120 - val_loss: 0.9267 - val_acc: 0.6686\n",
            "Epoch 5/60\n",
            "224/224 [==============================] - 358s 2s/step - loss: 0.7614 - acc: 0.7161 - val_loss: 0.9104 - val_acc: 0.6810\n",
            "Epoch 6/60\n",
            "224/224 [==============================] - 354s 2s/step - loss: 0.7485 - acc: 0.7211 - val_loss: 0.9164 - val_acc: 0.6712\n",
            "Epoch 7/60\n",
            "224/224 [==============================] - 350s 2s/step - loss: 0.7379 - acc: 0.7262 - val_loss: 0.9283 - val_acc: 0.6749\n",
            "Epoch 8/60\n",
            "224/224 [==============================] - 349s 2s/step - loss: 0.7266 - acc: 0.7308 - val_loss: 0.9173 - val_acc: 0.6799\n",
            "Epoch 9/60\n",
            "224/224 [==============================] - 353s 2s/step - loss: 0.7224 - acc: 0.7302 - val_loss: 0.8945 - val_acc: 0.6906\n",
            "Epoch 10/60\n",
            "224/224 [==============================] - 347s 2s/step - loss: 0.7137 - acc: 0.7325 - val_loss: 0.9412 - val_acc: 0.6718\n",
            "\n",
            "Epoch 00010: saving model to /content/drive/MyDrive/aml/saved/vgg/my_best_model.epoch10-loss0.941.hdf5\n",
            "Epoch 11/60\n",
            "224/224 [==============================] - 350s 2s/step - loss: 0.7051 - acc: 0.7385 - val_loss: 0.9084 - val_acc: 0.6773\n",
            "Epoch 12/60\n",
            "224/224 [==============================] - 350s 2s/step - loss: 0.7019 - acc: 0.7407 - val_loss: 0.9319 - val_acc: 0.6836\n",
            "Epoch 13/60\n",
            "224/224 [==============================] - 350s 2s/step - loss: 0.6892 - acc: 0.7461 - val_loss: 0.9269 - val_acc: 0.6729\n",
            "Epoch 14/60\n",
            "224/224 [==============================] - 346s 2s/step - loss: 0.6777 - acc: 0.7468 - val_loss: 0.9087 - val_acc: 0.6923\n",
            "Epoch 15/60\n",
            "224/224 [==============================] - 345s 2s/step - loss: 0.6690 - acc: 0.7513 - val_loss: 0.9132 - val_acc: 0.6773\n",
            "Epoch 16/60\n",
            "224/224 [==============================] - 345s 2s/step - loss: 0.6705 - acc: 0.7524 - val_loss: 0.9330 - val_acc: 0.6778\n",
            "Epoch 17/60\n",
            "224/224 [==============================] - 347s 2s/step - loss: 0.6622 - acc: 0.7561 - val_loss: 0.9118 - val_acc: 0.6828\n",
            "Epoch 18/60\n",
            "224/224 [==============================] - 348s 2s/step - loss: 0.6484 - acc: 0.7598 - val_loss: 0.9069 - val_acc: 0.6946\n",
            "Epoch 19/60\n",
            "224/224 [==============================] - 348s 2s/step - loss: 0.6471 - acc: 0.7655 - val_loss: 0.9418 - val_acc: 0.6778\n",
            "Epoch 20/60\n",
            "224/224 [==============================] - 347s 2s/step - loss: 0.6432 - acc: 0.7638 - val_loss: 0.9354 - val_acc: 0.6804\n",
            "\n",
            "Epoch 00020: saving model to /content/drive/MyDrive/aml/saved/vgg/my_best_model.epoch20-loss0.935.hdf5\n",
            "Epoch 21/60\n",
            "224/224 [==============================] - 347s 2s/step - loss: 0.6343 - acc: 0.7663 - val_loss: 0.9130 - val_acc: 0.6911\n",
            "Epoch 22/60\n",
            "224/224 [==============================] - 345s 2s/step - loss: 0.6289 - acc: 0.7690 - val_loss: 0.9245 - val_acc: 0.6830\n",
            "Epoch 23/60\n",
            "224/224 [==============================] - 344s 2s/step - loss: 0.6219 - acc: 0.7705 - val_loss: 0.9536 - val_acc: 0.6749\n",
            "Epoch 24/60\n",
            "224/224 [==============================] - 343s 2s/step - loss: 0.6073 - acc: 0.7734 - val_loss: 0.9365 - val_acc: 0.6799\n",
            "Epoch 25/60\n",
            "224/224 [==============================] - 342s 2s/step - loss: 0.6101 - acc: 0.7744 - val_loss: 0.9211 - val_acc: 0.6891\n",
            "Epoch 26/60\n",
            "224/224 [==============================] - 348s 2s/step - loss: 0.5957 - acc: 0.7812 - val_loss: 0.9382 - val_acc: 0.6807\n",
            "Epoch 27/60\n",
            "224/224 [==============================] - 344s 2s/step - loss: 0.5901 - acc: 0.7850 - val_loss: 0.9492 - val_acc: 0.6764\n",
            "Epoch 28/60\n",
            "224/224 [==============================] - 344s 2s/step - loss: 0.5860 - acc: 0.7864 - val_loss: 0.9415 - val_acc: 0.6859\n",
            "\n",
            "Epoch 00028: ReduceLROnPlateau reducing learning rate to 0.004999999888241291.\n",
            "Epoch 29/60\n",
            "224/224 [==============================] - 349s 2s/step - loss: 0.5652 - acc: 0.7926 - val_loss: 0.9557 - val_acc: 0.6804\n",
            "Epoch 30/60\n",
            "224/224 [==============================] - 346s 2s/step - loss: 0.5610 - acc: 0.7946 - val_loss: 0.9375 - val_acc: 0.6869\n",
            "\n",
            "Epoch 00030: saving model to /content/drive/MyDrive/aml/saved/vgg/my_best_model.epoch30-loss0.937.hdf5\n",
            "Epoch 31/60\n",
            "224/224 [==============================] - 350s 2s/step - loss: 0.5570 - acc: 0.7954 - val_loss: 0.9389 - val_acc: 0.6908\n",
            "Epoch 32/60\n",
            "224/224 [==============================] - 341s 2s/step - loss: 0.5461 - acc: 0.7979 - val_loss: 0.9371 - val_acc: 0.6842\n",
            "Epoch 33/60\n",
            "224/224 [==============================] - 339s 2s/step - loss: 0.5429 - acc: 0.7998 - val_loss: 0.9391 - val_acc: 0.6903\n",
            "Epoch 34/60\n",
            "224/224 [==============================] - 341s 2s/step - loss: 0.5378 - acc: 0.8017 - val_loss: 0.9524 - val_acc: 0.6845\n",
            "Epoch 35/60\n",
            "224/224 [==============================] - 341s 2s/step - loss: 0.5349 - acc: 0.8052 - val_loss: 0.9510 - val_acc: 0.6882\n",
            "Epoch 36/60\n",
            "224/224 [==============================] - 339s 2s/step - loss: 0.5235 - acc: 0.8068 - val_loss: 0.9621 - val_acc: 0.6804\n",
            "Epoch 37/60\n",
            "224/224 [==============================] - 342s 2s/step - loss: 0.5202 - acc: 0.8065 - val_loss: 0.9311 - val_acc: 0.6989\n",
            "Epoch 38/60\n",
            "224/224 [==============================] - 339s 2s/step - loss: 0.5200 - acc: 0.8094 - val_loss: 0.9981 - val_acc: 0.6778\n",
            "Epoch 39/60\n",
            "224/224 [==============================] - 338s 2s/step - loss: 0.5246 - acc: 0.8089 - val_loss: 0.9324 - val_acc: 0.6854\n",
            "Epoch 40/60\n",
            "224/224 [==============================] - 338s 2s/step - loss: 0.5099 - acc: 0.8159 - val_loss: 0.9506 - val_acc: 0.6952\n",
            "\n",
            "Epoch 00040: saving model to /content/drive/MyDrive/aml/saved/vgg/my_best_model.epoch40-loss0.951.hdf5\n",
            "Epoch 41/60\n",
            "224/224 [==============================] - 341s 2s/step - loss: 0.5061 - acc: 0.8160 - val_loss: 0.9522 - val_acc: 0.6934\n",
            "Epoch 42/60\n",
            "224/224 [==============================] - 340s 2s/step - loss: 0.5123 - acc: 0.8138 - val_loss: 0.9634 - val_acc: 0.6859\n",
            "Epoch 43/60\n",
            "224/224 [==============================] - 339s 2s/step - loss: 0.5061 - acc: 0.8152 - val_loss: 0.9664 - val_acc: 0.6839\n",
            "Epoch 44/60\n",
            "224/224 [==============================] - 341s 2s/step - loss: 0.5026 - acc: 0.8143 - val_loss: 0.9429 - val_acc: 0.6911\n",
            "Epoch 45/60\n",
            "224/224 [==============================] - 341s 2s/step - loss: 0.4938 - acc: 0.8180 - val_loss: 0.9542 - val_acc: 0.6874\n",
            "Epoch 46/60\n",
            "224/224 [==============================] - 334s 1s/step - loss: 0.4912 - acc: 0.8214 - val_loss: 0.9885 - val_acc: 0.6778\n",
            "Epoch 47/60\n",
            "224/224 [==============================] - 326s 1s/step - loss: 0.4836 - acc: 0.8227 - val_loss: 0.9701 - val_acc: 0.6917\n",
            "\n",
            "Epoch 00047: ReduceLROnPlateau reducing learning rate to 0.0024999999441206455.\n",
            "Epoch 48/60\n",
            "224/224 [==============================] - 326s 1s/step - loss: 0.4938 - acc: 0.8185 - val_loss: 0.9811 - val_acc: 0.6859\n",
            "Epoch 49/60\n",
            "224/224 [==============================] - 326s 1s/step - loss: 0.4834 - acc: 0.8221 - val_loss: 0.9469 - val_acc: 0.6949\n",
            "Epoch 50/60\n",
            "224/224 [==============================] - 326s 1s/step - loss: 0.4827 - acc: 0.8235 - val_loss: 0.9806 - val_acc: 0.6891\n",
            "\n",
            "Epoch 00050: saving model to /content/drive/MyDrive/aml/saved/vgg/my_best_model.epoch50-loss0.981.hdf5\n",
            "Epoch 51/60\n",
            "224/224 [==============================] - 326s 1s/step - loss: 0.4781 - acc: 0.8234 - val_loss: 0.9507 - val_acc: 0.6911\n",
            "Epoch 52/60\n",
            "224/224 [==============================] - 324s 1s/step - loss: 0.4733 - acc: 0.8285 - val_loss: 0.9819 - val_acc: 0.6880\n",
            "Epoch 53/60\n",
            "224/224 [==============================] - 325s 1s/step - loss: 0.4683 - acc: 0.8300 - val_loss: 0.9327 - val_acc: 0.6989\n",
            "Epoch 54/60\n",
            "224/224 [==============================] - 324s 1s/step - loss: 0.4596 - acc: 0.8361 - val_loss: 0.9919 - val_acc: 0.6822\n",
            "Epoch 55/60\n",
            "224/224 [==============================] - 323s 1s/step - loss: 0.4664 - acc: 0.8294 - val_loss: 0.9728 - val_acc: 0.6943\n",
            "Epoch 56/60\n",
            "224/224 [==============================] - 325s 1s/step - loss: 0.4627 - acc: 0.8324 - val_loss: 0.9656 - val_acc: 0.6926\n",
            "Epoch 57/60\n",
            "224/224 [==============================] - 325s 1s/step - loss: 0.4611 - acc: 0.8311 - val_loss: 0.9711 - val_acc: 0.6903\n",
            "\n",
            "Epoch 00057: ReduceLROnPlateau reducing learning rate to 0.0012499999720603228.\n",
            "Epoch 58/60\n",
            "224/224 [==============================] - 326s 1s/step - loss: 0.4664 - acc: 0.8300 - val_loss: 0.9830 - val_acc: 0.6882\n",
            "Epoch 59/60\n",
            "224/224 [==============================] - 326s 1s/step - loss: 0.4447 - acc: 0.8370 - val_loss: 0.9722 - val_acc: 0.6928\n",
            "Epoch 60/60\n",
            "224/224 [==============================] - 328s 1s/step - loss: 0.4602 - acc: 0.8352 - val_loss: 0.9725 - val_acc: 0.6908\n",
            "\n",
            "Epoch 00060: saving model to /content/drive/MyDrive/aml/saved/vgg/my_best_model.epoch60-loss0.973.hdf5\n"
          ]
        }
      ]
    },
    {
      "cell_type": "code",
      "source": [
        "epoch_str = '-EPOCHS_' + str(100)\n",
        "test_acc = 'test_acc_%.3f' % results_test[1]\n",
        "model.save('/content/drive/MyDrive/aml/models/' + 'VGG16' + epoch_str + test_acc + '.h5')"
      ],
      "metadata": {
        "id": "kFYRaBIvfL9f"
      },
      "execution_count": null,
      "outputs": []
    },
    {
      "cell_type": "code",
      "source": [
        "model.load_weights('/content/drive/MyDrive/aml/models/VGG16-EPOCHS_100test_acc_0.704.h5')"
      ],
      "metadata": {
        "id": "Dd-9VW6LQZhV"
      },
      "execution_count": null,
      "outputs": []
    },
    {
      "cell_type": "code",
      "source": [
        "results_dev = model.evaluate_generator(dev_generator, 3589 // BS)\n",
        "print('dev loss:', results_dev[0],\", dev acc:\", results_dev[1])"
      ],
      "metadata": {
        "id": "YlVkKTXPaE68",
        "colab": {
          "base_uri": "https://localhost:8080/"
        },
        "outputId": "2209ba05-3e99-43ab-b50f-6d614ca70e9c"
      },
      "execution_count": null,
      "outputs": [
        {
          "output_type": "stream",
          "name": "stdout",
          "text": [
            "dev loss: 0.971646494099072 , dev acc: 0.6908482142857143\n"
          ]
        }
      ]
    },
    {
      "cell_type": "code",
      "source": [
        "results_test = model.evaluate_generator(test_generator, 3599 // BS)\n",
        "print('test loss:', results_test[0],\", test acc:\", results_test[1])"
      ],
      "metadata": {
        "id": "ladsUvIlMFuk",
        "colab": {
          "base_uri": "https://localhost:8080/"
        },
        "outputId": "1a477290-5f5e-445c-dd5a-1678ff3cd9b0"
      },
      "execution_count": null,
      "outputs": [
        {
          "output_type": "stream",
          "name": "stdout",
          "text": [
            "test loss: 0.8914492577314377 , test acc: 0.705078125\n"
          ]
        }
      ]
    },
    {
      "cell_type": "code",
      "source": [
        "# list all data in history\n",
        "print(history.history.keys())\n",
        "# summarize history for accuracy\n",
        "plt.plot(history.history['acc'])\n",
        "plt.plot(history.history['val_acc'])\n",
        "plt.title('model accuracy')\n",
        "plt.ylabel('accuracy')\n",
        "plt.xlabel('epoch')\n",
        "plt.legend(['train', 'dev'], loc='upper left')\n",
        "plt.show()\n",
        "# summarize history for loss\n",
        "plt.plot(history.history['loss'])\n",
        "plt.plot(history.history['val_loss'])\n",
        "plt.title('model loss')\n",
        "plt.ylabel('loss')\n",
        "plt.xlabel('epoch')\n",
        "plt.legend(['train', 'dev'], loc='upper left')\n",
        "plt.show()"
      ],
      "metadata": {
        "id": "b-UuQxWVZWgX",
        "colab": {
          "base_uri": "https://localhost:8080/",
          "height": 591
        },
        "outputId": "ad5934a8-fe88-4f53-d967-05144118af60"
      },
      "execution_count": null,
      "outputs": [
        {
          "output_type": "stream",
          "name": "stdout",
          "text": [
            "dict_keys(['val_loss', 'val_acc', 'loss', 'acc', 'lr'])\n"
          ]
        },
        {
          "output_type": "display_data",
          "data": {
            "image/png": "[encoded data removed]",
            "text/plain": [
              "<Figure size 432x288 with 1 Axes>"
            ]
          },
          "metadata": {
            "needs_background": "light"
          }
        },
        {
          "output_type": "display_data",
          "data": {
            "image/png": "[encoded data removed]",
            "text/plain": [
              "<Figure size 432x288 with 1 Axes>"
            ]
          },
          "metadata": {
            "needs_background": "light"
          }
        }
      ]
    },
    {
      "cell_type": "code",
      "source": [
        "a='a'"
      ],
      "metadata": {
        "id": "eIypGSAFfacy"
      },
      "execution_count": null,
      "outputs": []
    },
    {
      "cell_type": "code",
      "source": [
        ""
      ],
      "metadata": {
        "id": "ysXnVHgvKeXQ"
      },
      "execution_count": null,
      "outputs": []
    }
  ]
}