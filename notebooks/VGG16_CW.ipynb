{
  "nbformat": 4,
  "nbformat_minor": 0,
  "metadata": {
    "colab": {
      "name": "VGG16-CW.ipynb",
      "provenance": [],
      "collapsed_sections": []
    },
    "kernelspec": {
      "name": "python3",
      "display_name": "Python 3"
    },
    "language_info": {
      "name": "python"
    },
    "accelerator": "GPU"
  },
  "cells": [
    {
      "cell_type": "code",
      "execution_count": null,
      "metadata": {
        "colab": {
          "base_uri": "https://localhost:8080/"
        },
        "id": "6pK74MLbGpBU",
        "outputId": "e89299dd-a0a5-4a18-8b29-876558ac5cb2"
      },
      "outputs": [
        {
          "output_type": "stream",
          "name": "stdout",
          "text": [
            "Drive already mounted at /content/drive; to attempt to forcibly remount, call drive.mount(\"/content/drive\", force_remount=True).\n"
          ]
        }
      ],
      "source": [
        "from google.colab import drive\n",
        "drive.mount('/content/drive')"
      ]
    },
    {
      "cell_type": "code",
      "source": [
        "%tensorflow_version 1.x\n",
        "!pip install -q keras-vggface\n",
        "!pip install -q scikit-image\n",
        "!pip install -q pydot\n",
        "!pip install -q keras==2.2.5\n",
        "!pip install h5py==2.10.0  "
      ],
      "metadata": {
        "colab": {
          "base_uri": "https://localhost:8080/"
        },
        "id": "0ztBURrTGrIr",
        "outputId": "4c00d00d-3ce6-4501-9797-521d4e25bbfb"
      },
      "execution_count": null,
      "outputs": [
        {
          "output_type": "stream",
          "name": "stdout",
          "text": [
            "TensorFlow 1.x selected.\n",
            "Requirement already satisfied: h5py==2.10.0 in /usr/local/lib/python3.7/dist-packages (2.10.0)\n",
            "Requirement already satisfied: six in /usr/local/lib/python3.7/dist-packages (from h5py==2.10.0) (1.15.0)\n",
            "Requirement already satisfied: numpy>=1.7 in /usr/local/lib/python3.7/dist-packages (from h5py==2.10.0) (1.21.5)\n"
          ]
        }
      ]
    },
    {
      "cell_type": "code",
      "source": [
        "#from tensorflow.python.client import device_lib\n",
        "#device_lib.list_local_devices()"
      ],
      "metadata": {
        "id": "0lmjtGJF9PGR"
      },
      "execution_count": null,
      "outputs": []
    },
    {
      "cell_type": "code",
      "source": [
        "import matplotlib.pyplot as plt\n",
        "import pandas as pd\n",
        "import numpy as np\n",
        "\n",
        "import tensorflow as tf\n",
        "from tensorflow.keras.layers import *\n",
        "from tensorflow.python.lib.io import file_io\n",
        "\n",
        "%matplotlib inline\n",
        "\n",
        "import keras\n",
        "from keras import backend as K\n",
        "from keras.callbacks import ModelCheckpoint, EarlyStopping\n",
        "from keras.models import load_model\n",
        "from keras.preprocessing.image import ImageDataGenerator\n",
        "from keras_vggface.vggface import VGGFace\n",
        "from keras.utils import plot_model\n",
        "from sklearn.metrics import *\n",
        "from keras.engine import Model\n",
        "from keras.layers import Input, Flatten, Dense, Activation, Conv2D, MaxPool2D, BatchNormalization, Dropout, MaxPooling2D\n",
        "import skimage\n",
        "from skimage.transform import rescale, resize\n",
        "\n",
        "import pydot"
      ],
      "metadata": {
        "colab": {
          "base_uri": "https://localhost:8080/"
        },
        "id": "Vk83TnCLG0YT",
        "outputId": "bb364d6f-dc5b-4369-f94b-b798de7e7741"
      },
      "execution_count": null,
      "outputs": [
        {
          "output_type": "stream",
          "name": "stderr",
          "text": [
            "Using TensorFlow backend.\n"
          ]
        }
      ]
    },
    {
      "cell_type": "code",
      "source": [
        "EPOCHS = 50\n",
        "BS = 128\n",
        "DROPOUT_RATE = 0.5\n",
        "FROZEN_LAYER_NUM = 19\n",
        "\n",
        "ADAM_LEARNING_RATE = 0.001\n",
        "SGD_LEARNING_RATE = 0.01\n",
        "SGD_DECAY = 0.0001\n",
        "\n",
        "Resize_pixelsize = 197"
      ],
      "metadata": {
        "id": "Ohpzwo8zHK58"
      },
      "execution_count": null,
      "outputs": []
    },
    {
      "cell_type": "code",
      "source": [
        "vgg_notop = VGGFace(model='vgg16', include_top=False, input_shape=(Resize_pixelsize, Resize_pixelsize, 3), pooling='avg')\n",
        "last_layer = vgg_notop.get_layer('pool5').output\n",
        "x = Flatten(name='flatten')(last_layer)\n",
        "x = Dropout(DROPOUT_RATE)(x)\n",
        "x = Dense(4096, activation='relu', name='fc6')(x)\n",
        "x = Dropout(DROPOUT_RATE)(x)\n",
        "x = Dense(1024, activation='relu', name='fc7')(x)\n",
        "\n",
        "for i in range(FROZEN_LAYER_NUM):\n",
        "    vgg_notop.layers[i].trainable = False\n",
        "\n",
        "\n",
        "out = Dense(7, activation='softmax', name='classifier')(x)\n",
        "\n",
        "model = Model(vgg_notop.input, out)\n",
        "\n",
        "\n",
        "optim = keras.optimizers.Adam(lr=ADAM_LEARNING_RATE, beta_1=0.9, beta_2=0.999, epsilon=1e-08, decay=0.0)\n",
        "sgd = keras.optimizers.SGD(lr=SGD_LEARNING_RATE, momentum=0.9, decay=SGD_DECAY, nesterov=True)\n",
        "rlrop = keras.callbacks.ReduceLROnPlateau(monitor='val_acc',mode='max',factor=0.5, patience=10, min_lr=0.00001, verbose=1)\n",
        "\n",
        "mfile = '/content/drive/MyDrive/aml/saved/vgg-cw/my_best_model.epoch{epoch:02d}-loss{val_loss:.3f}.hdf5'\n",
        "msave = keras.callbacks.ModelCheckpoint(filepath=mfile,verbose=1, save_weights_only=True,period= 10 )\n",
        "\n",
        "model.compile(optimizer=sgd, loss='categorical_crossentropy', metrics=['accuracy'])"
      ],
      "metadata": {
        "colab": {
          "base_uri": "https://localhost:8080/"
        },
        "id": "hrr06PDjHVmm",
        "outputId": "bb9dd06e-eece-4972-f483-4a39db50f1a9"
      },
      "execution_count": null,
      "outputs": [
        {
          "output_type": "stream",
          "name": "stdout",
          "text": [
            "WARNING:tensorflow:From /usr/local/lib/python3.7/dist-packages/keras/backend/tensorflow_backend.py:66: The name tf.get_default_graph is deprecated. Please use tf.compat.v1.get_default_graph instead.\n",
            "\n",
            "WARNING:tensorflow:From /usr/local/lib/python3.7/dist-packages/keras/backend/tensorflow_backend.py:541: The name tf.placeholder is deprecated. Please use tf.compat.v1.placeholder instead.\n",
            "\n",
            "WARNING:tensorflow:From /usr/local/lib/python3.7/dist-packages/keras/backend/tensorflow_backend.py:4432: The name tf.random_uniform is deprecated. Please use tf.random.uniform instead.\n",
            "\n",
            "WARNING:tensorflow:From /usr/local/lib/python3.7/dist-packages/keras/backend/tensorflow_backend.py:4267: The name tf.nn.max_pool is deprecated. Please use tf.nn.max_pool2d instead.\n",
            "\n",
            "Downloading data from https://github.com/rcmalli/keras-vggface/releases/download/v2.0/rcmalli_vggface_tf_notop_vgg16.h5\n",
            "58916864/58909280 [==============================] - 1s 0us/step\n",
            "WARNING:tensorflow:From /usr/local/lib/python3.7/dist-packages/keras/backend/tensorflow_backend.py:190: The name tf.get_default_session is deprecated. Please use tf.compat.v1.get_default_session instead.\n",
            "\n",
            "WARNING:tensorflow:From /usr/local/lib/python3.7/dist-packages/keras/backend/tensorflow_backend.py:197: The name tf.ConfigProto is deprecated. Please use tf.compat.v1.ConfigProto instead.\n",
            "\n",
            "WARNING:tensorflow:From /usr/local/lib/python3.7/dist-packages/keras/backend/tensorflow_backend.py:203: The name tf.Session is deprecated. Please use tf.compat.v1.Session instead.\n",
            "\n",
            "WARNING:tensorflow:From /usr/local/lib/python3.7/dist-packages/keras/backend/tensorflow_backend.py:207: The name tf.global_variables is deprecated. Please use tf.compat.v1.global_variables instead.\n",
            "\n",
            "WARNING:tensorflow:From /usr/local/lib/python3.7/dist-packages/keras/backend/tensorflow_backend.py:216: The name tf.is_variable_initialized is deprecated. Please use tf.compat.v1.is_variable_initialized instead.\n",
            "\n",
            "WARNING:tensorflow:From /usr/local/lib/python3.7/dist-packages/keras/backend/tensorflow_backend.py:223: The name tf.variables_initializer is deprecated. Please use tf.compat.v1.variables_initializer instead.\n",
            "\n",
            "WARNING:tensorflow:From /usr/local/lib/python3.7/dist-packages/keras/backend/tensorflow_backend.py:148: The name tf.placeholder_with_default is deprecated. Please use tf.compat.v1.placeholder_with_default instead.\n",
            "\n",
            "WARNING:tensorflow:From /usr/local/lib/python3.7/dist-packages/keras/backend/tensorflow_backend.py:3733: calling dropout (from tensorflow.python.ops.nn_ops) with keep_prob is deprecated and will be removed in a future version.\n",
            "Instructions for updating:\n",
            "Please use `rate` instead of `keep_prob`. Rate should be set to `rate = 1 - keep_prob`.\n",
            "WARNING:tensorflow:From /usr/local/lib/python3.7/dist-packages/keras/optimizers.py:793: The name tf.train.Optimizer is deprecated. Please use tf.compat.v1.train.Optimizer instead.\n",
            "\n",
            "WARNING:tensorflow:From /usr/local/lib/python3.7/dist-packages/keras/backend/tensorflow_backend.py:3576: The name tf.log is deprecated. Please use tf.math.log instead.\n",
            "\n"
          ]
        }
      ]
    },
    {
      "cell_type": "code",
      "source": [
        "! rm -rf train; mkdir train\n",
        "! unzip -q '/content/drive/MyDrive/aml/datasets/fer2013/train.zip' -d train\n",
        "\n",
        "! rm -rf dev; mkdir dev\n",
        "! unzip -q '/content/drive/MyDrive/aml/datasets/fer2013/test-public.zip' -d dev\n",
        "\n",
        "! rm -rf test; mkdir test\n",
        "! unzip -q '/content/drive/MyDrive/aml/datasets/fer2013/test-private.zip' -d test"
      ],
      "metadata": {
        "id": "yq3RpfbSHYXZ"
      },
      "execution_count": null,
      "outputs": []
    },
    {
      "cell_type": "code",
      "source": [
        "from tensorflow.keras.preprocessing.image import ImageDataGenerator\n",
        "\n",
        "def get_datagen(dataset, aug=False):\n",
        "    if aug:\n",
        "        datagen = ImageDataGenerator(\n",
        "                            rescale=1./255,\n",
        "                            featurewise_center=False,\n",
        "                            featurewise_std_normalization=False,\n",
        "                            rotation_range=10,\n",
        "                            width_shift_range=0.1,\n",
        "                            height_shift_range=0.1,\n",
        "                            zoom_range=0.1,\n",
        "                            horizontal_flip=True)\n",
        "    else:\n",
        "        datagen = ImageDataGenerator(rescale=1./255)\n",
        "\n",
        "    return datagen.flow_from_directory(\n",
        "            dataset,\n",
        "            target_size=(197, 197),\n",
        "            color_mode='rgb',\n",
        "            shuffle = True,\n",
        "            class_mode='categorical',\n",
        "            batch_size=BS)"
      ],
      "metadata": {
        "id": "HPSPWaR-HfHN"
      },
      "execution_count": null,
      "outputs": []
    },
    {
      "cell_type": "code",
      "source": [
        "train_generator  = get_datagen('/content/train', True)\n",
        "dev_generator    = get_datagen('/content/dev')\n",
        "test_generator  = get_datagen('/content/test')"
      ],
      "metadata": {
        "colab": {
          "base_uri": "https://localhost:8080/"
        },
        "id": "tBSuq48iHiRP",
        "outputId": "efb7976b-0e0a-43e2-cfde-702bbd1c9c08"
      },
      "execution_count": null,
      "outputs": [
        {
          "output_type": "stream",
          "name": "stdout",
          "text": [
            "Found 28709 images belonging to 7 classes.\n",
            "Found 3589 images belonging to 7 classes.\n",
            "Found 3589 images belonging to 7 classes.\n"
          ]
        }
      ]
    },
    {
      "cell_type": "code",
      "source": [
        "from sklearn.utils import class_weight\n",
        "file_stream = file_io.FileIO('/content/drive/MyDrive/aml/datasets/fer2013/dev.csv', mode='r')\n",
        "data = pd.read_csv(file_stream)\n",
        "data['pixels'] = data['pixels'].apply(lambda x: [int(pixel) for pixel in x.split()])\n",
        "X, Y = data['pixels'].tolist(), data['emotion'].values\n",
        "class_weights = class_weight.compute_class_weight(class_weight = \"balanced\",\n",
        "                                        classes = np.unique(Y),\n",
        "                                        y = Y     )"
      ],
      "metadata": {
        "id": "8IXzFd9KHkfr"
      },
      "execution_count": null,
      "outputs": []
    },
    {
      "cell_type": "code",
      "source": [
        "class_weights"
      ],
      "metadata": {
        "colab": {
          "base_uri": "https://localhost:8080/"
        },
        "id": "MtfyeEa7UinO",
        "outputId": "be9af100-57db-4c4b-9742-b981c8061012"
      },
      "execution_count": null,
      "outputs": [
        {
          "output_type": "execute_result",
          "data": {
            "text/plain": [
              "array([1.09788926, 9.15561224, 1.03369816, 0.57286512, 0.78516736,\n",
              "       1.23545611, 0.84466933])"
            ]
          },
          "metadata": {},
          "execution_count": 11
        }
      ]
    },
    {
      "cell_type": "code",
      "source": [
        "history = model.fit_generator(\n",
        "    generator = train_generator,\n",
        "    validation_data=dev_generator, \n",
        "    steps_per_epoch=28709// BS,\n",
        "    validation_steps=3589 // BS,\n",
        "    shuffle=True,\n",
        "    epochs=100,\n",
        "    callbacks=[rlrop, msave],\n",
        "    use_multiprocessing=False,\n",
        "    class_weight = class_weights\n",
        ") "
      ],
      "metadata": {
        "colab": {
          "base_uri": "https://localhost:8080/"
        },
        "id": "LPCzaNQGHnyL",
        "outputId": "650e3feb-9494-4942-d0ca-b41a9a8c6ffa"
      },
      "execution_count": null,
      "outputs": [
        {
          "output_type": "stream",
          "name": "stdout",
          "text": [
            "WARNING:tensorflow:From /tensorflow-1.15.2/python3.7/tensorflow_core/python/ops/math_grad.py:1424: where (from tensorflow.python.ops.array_ops) is deprecated and will be removed in a future version.\n",
            "Instructions for updating:\n",
            "Use tf.where in 2.0, which has the same broadcast rule as np.where\n",
            "WARNING:tensorflow:From /usr/local/lib/python3.7/dist-packages/keras/backend/tensorflow_backend.py:1033: The name tf.assign_add is deprecated. Please use tf.compat.v1.assign_add instead.\n",
            "\n",
            "WARNING:tensorflow:From /usr/local/lib/python3.7/dist-packages/keras/backend/tensorflow_backend.py:1020: The name tf.assign is deprecated. Please use tf.compat.v1.assign instead.\n",
            "\n",
            "Epoch 1/100\n",
            "224/224 [==============================] - 356s 2s/step - loss: 1.4460 - acc: 0.4499 - val_loss: 1.1553 - val_acc: 0.5700\n",
            "Epoch 2/100\n",
            "224/224 [==============================] - 344s 2s/step - loss: 1.1957 - acc: 0.5548 - val_loss: 1.0979 - val_acc: 0.5978\n",
            "Epoch 3/100\n",
            "224/224 [==============================] - 341s 2s/step - loss: 1.1460 - acc: 0.5721 - val_loss: 1.0713 - val_acc: 0.5995\n",
            "Epoch 4/100\n",
            "224/224 [==============================] - 338s 2s/step - loss: 1.1195 - acc: 0.5796 - val_loss: 1.0469 - val_acc: 0.6021\n",
            "Epoch 5/100\n",
            "224/224 [==============================] - 340s 2s/step - loss: 1.0935 - acc: 0.5901 - val_loss: 1.0221 - val_acc: 0.6203\n",
            "Epoch 6/100\n",
            "224/224 [==============================] - 339s 2s/step - loss: 1.0793 - acc: 0.5997 - val_loss: 1.0462 - val_acc: 0.6013\n",
            "Epoch 7/100\n",
            "224/224 [==============================] - 337s 2s/step - loss: 1.0610 - acc: 0.6008 - val_loss: 1.0175 - val_acc: 0.6143\n",
            "Epoch 8/100\n",
            "224/224 [==============================] - 336s 1s/step - loss: 1.0443 - acc: 0.6101 - val_loss: 1.0023 - val_acc: 0.6235\n",
            "Epoch 9/100\n",
            "224/224 [==============================] - 337s 2s/step - loss: 1.0319 - acc: 0.6133 - val_loss: 0.9940 - val_acc: 0.6212\n",
            "Epoch 10/100\n",
            "224/224 [==============================] - 335s 1s/step - loss: 1.0188 - acc: 0.6183 - val_loss: 0.9884 - val_acc: 0.6290\n",
            "\n",
            "Epoch 00010: saving model to /content/drive/MyDrive/aml/saved/vgg-cw/my_best_model.epoch10-loss0.988.hdf5\n",
            "Epoch 11/100\n",
            "224/224 [==============================] - 334s 1s/step - loss: 1.0173 - acc: 0.6209 - val_loss: 0.9771 - val_acc: 0.6345\n",
            "Epoch 12/100\n",
            "224/224 [==============================] - 329s 1s/step - loss: 0.9988 - acc: 0.6254 - val_loss: 0.9918 - val_acc: 0.6209\n",
            "Epoch 13/100\n",
            "224/224 [==============================] - 325s 1s/step - loss: 0.9919 - acc: 0.6309 - val_loss: 0.9721 - val_acc: 0.6325\n",
            "Epoch 14/100\n",
            "224/224 [==============================] - 325s 1s/step - loss: 0.9818 - acc: 0.6327 - val_loss: 0.9802 - val_acc: 0.6307\n",
            "Epoch 15/100\n",
            "224/224 [==============================] - 324s 1s/step - loss: 0.9734 - acc: 0.6340 - val_loss: 0.9771 - val_acc: 0.6342\n",
            "Epoch 16/100\n",
            "224/224 [==============================] - 324s 1s/step - loss: 0.9560 - acc: 0.6453 - val_loss: 0.9489 - val_acc: 0.6504\n",
            "Epoch 17/100\n",
            "224/224 [==============================] - 323s 1s/step - loss: 0.9492 - acc: 0.6443 - val_loss: 0.9478 - val_acc: 0.6521\n",
            "Epoch 18/100\n",
            "224/224 [==============================] - 325s 1s/step - loss: 0.9447 - acc: 0.6472 - val_loss: 0.9740 - val_acc: 0.6345\n",
            "Epoch 19/100\n",
            "224/224 [==============================] - 328s 1s/step - loss: 0.9343 - acc: 0.6528 - val_loss: 0.9462 - val_acc: 0.6466\n",
            "Epoch 20/100\n",
            "224/224 [==============================] - 328s 1s/step - loss: 0.9277 - acc: 0.6529 - val_loss: 0.9527 - val_acc: 0.6556\n",
            "\n",
            "Epoch 00020: saving model to /content/drive/MyDrive/aml/saved/vgg-cw/my_best_model.epoch20-loss0.953.hdf5\n",
            "Epoch 21/100\n",
            "224/224 [==============================] - 328s 1s/step - loss: 0.9171 - acc: 0.6598 - val_loss: 0.9490 - val_acc: 0.6492\n",
            "Epoch 22/100\n",
            "224/224 [==============================] - 327s 1s/step - loss: 0.9144 - acc: 0.6576 - val_loss: 0.9282 - val_acc: 0.6570\n",
            "Epoch 23/100\n",
            "224/224 [==============================] - 327s 1s/step - loss: 0.9059 - acc: 0.6637 - val_loss: 0.9367 - val_acc: 0.6562\n",
            "Epoch 24/100\n",
            "224/224 [==============================] - 329s 1s/step - loss: 0.8978 - acc: 0.6645 - val_loss: 0.9367 - val_acc: 0.6547\n",
            "Epoch 25/100\n",
            "224/224 [==============================] - 324s 1s/step - loss: 0.8908 - acc: 0.6675 - val_loss: 0.9444 - val_acc: 0.6559\n",
            "Epoch 26/100\n",
            "224/224 [==============================] - 323s 1s/step - loss: 0.8858 - acc: 0.6693 - val_loss: 0.9442 - val_acc: 0.6565\n",
            "Epoch 27/100\n",
            "224/224 [==============================] - 326s 1s/step - loss: 0.8752 - acc: 0.6747 - val_loss: 0.9284 - val_acc: 0.6640\n",
            "Epoch 28/100\n",
            "224/224 [==============================] - 322s 1s/step - loss: 0.8729 - acc: 0.6739 - val_loss: 0.9343 - val_acc: 0.6593\n",
            "Epoch 29/100\n",
            "224/224 [==============================] - 323s 1s/step - loss: 0.8601 - acc: 0.6784 - val_loss: 0.9339 - val_acc: 0.6608\n",
            "Epoch 30/100\n",
            "224/224 [==============================] - 320s 1s/step - loss: 0.8531 - acc: 0.6852 - val_loss: 0.9238 - val_acc: 0.6680\n",
            "\n",
            "Epoch 00030: saving model to /content/drive/MyDrive/aml/saved/vgg-cw/my_best_model.epoch30-loss0.924.hdf5\n",
            "Epoch 31/100\n",
            "224/224 [==============================] - 320s 1s/step - loss: 0.8494 - acc: 0.6858 - val_loss: 0.9228 - val_acc: 0.6619\n",
            "Epoch 32/100\n",
            "224/224 [==============================] - 321s 1s/step - loss: 0.8382 - acc: 0.6878 - val_loss: 0.9232 - val_acc: 0.6697\n",
            "Epoch 33/100\n",
            "224/224 [==============================] - 329s 1s/step - loss: 0.8328 - acc: 0.6907 - val_loss: 0.9282 - val_acc: 0.6651\n",
            "Epoch 34/100\n",
            "224/224 [==============================] - 336s 1s/step - loss: 0.8305 - acc: 0.6897 - val_loss: 0.9023 - val_acc: 0.6723\n",
            "Epoch 35/100\n",
            "224/224 [==============================] - 327s 1s/step - loss: 0.8245 - acc: 0.6942 - val_loss: 0.9258 - val_acc: 0.6645\n",
            "Epoch 36/100\n",
            "224/224 [==============================] - 323s 1s/step - loss: 0.8182 - acc: 0.6954 - val_loss: 0.9115 - val_acc: 0.6674\n",
            "Epoch 37/100\n",
            "224/224 [==============================] - 328s 1s/step - loss: 0.8091 - acc: 0.6987 - val_loss: 0.9109 - val_acc: 0.6654\n",
            "Epoch 38/100\n",
            "224/224 [==============================] - 326s 1s/step - loss: 0.8000 - acc: 0.7041 - val_loss: 0.9211 - val_acc: 0.6669\n",
            "Epoch 39/100\n",
            "142/224 [==================>...........] - ETA: 1:46 - loss: 0.7862 - acc: 0.7097"
          ]
        }
      ]
    },
    {
      "cell_type": "code",
      "source": [
        "model.load_weights('/content/drive/MyDrive/aml/saved/vgg-cw/my_best_model.epoch30-loss0.924.hdf5')"
      ],
      "metadata": {
        "id": "yMAY7FzwAbMV"
      },
      "execution_count": null,
      "outputs": []
    },
    {
      "cell_type": "code",
      "source": [
        "history = model.fit_generator(\n",
        "    generator = train_generator,\n",
        "    validation_data=dev_generator, \n",
        "    steps_per_epoch=28709// BS,\n",
        "    validation_steps=3589 // BS,\n",
        "    shuffle=True,\n",
        "    epochs=70,\n",
        "    callbacks=[rlrop, msave],\n",
        "    use_multiprocessing=False,\n",
        "    class_weight = class_weights\n",
        ") "
      ],
      "metadata": {
        "colab": {
          "base_uri": "https://localhost:8080/"
        },
        "id": "gHfqHCdQAoFF",
        "outputId": "06b1ba11-f4c3-4770-b3e1-0b3c981428ac"
      },
      "execution_count": null,
      "outputs": [
        {
          "output_type": "stream",
          "name": "stdout",
          "text": [
            "WARNING:tensorflow:From /tensorflow-1.15.2/python3.7/tensorflow_core/python/ops/math_grad.py:1424: where (from tensorflow.python.ops.array_ops) is deprecated and will be removed in a future version.\n",
            "Instructions for updating:\n",
            "Use tf.where in 2.0, which has the same broadcast rule as np.where\n",
            "WARNING:tensorflow:From /usr/local/lib/python3.7/dist-packages/keras/backend/tensorflow_backend.py:1033: The name tf.assign_add is deprecated. Please use tf.compat.v1.assign_add instead.\n",
            "\n",
            "WARNING:tensorflow:From /usr/local/lib/python3.7/dist-packages/keras/backend/tensorflow_backend.py:1020: The name tf.assign is deprecated. Please use tf.compat.v1.assign instead.\n",
            "\n",
            "Epoch 1/70\n",
            "224/224 [==============================] - 354s 2s/step - loss: 0.8651 - acc: 0.6750 - val_loss: 0.9255 - val_acc: 0.6641\n",
            "Epoch 2/70\n",
            "224/224 [==============================] - 340s 2s/step - loss: 0.8570 - acc: 0.6788 - val_loss: 0.9168 - val_acc: 0.6637\n",
            "Epoch 3/70\n",
            "224/224 [==============================] - 337s 2s/step - loss: 0.8487 - acc: 0.6833 - val_loss: 0.9321 - val_acc: 0.6631\n",
            "Epoch 4/70\n",
            "224/224 [==============================] - 336s 1s/step - loss: 0.8404 - acc: 0.6863 - val_loss: 0.9186 - val_acc: 0.6671\n",
            "Epoch 5/70\n",
            "224/224 [==============================] - 330s 1s/step - loss: 0.8323 - acc: 0.6899 - val_loss: 0.9290 - val_acc: 0.6524\n",
            "Epoch 6/70\n",
            "224/224 [==============================] - 327s 1s/step - loss: 0.8215 - acc: 0.6957 - val_loss: 0.9140 - val_acc: 0.6715\n",
            "Epoch 7/70\n",
            "224/224 [==============================] - 325s 1s/step - loss: 0.8159 - acc: 0.6986 - val_loss: 0.9249 - val_acc: 0.6614\n",
            "Epoch 8/70\n",
            "224/224 [==============================] - 329s 1s/step - loss: 0.8029 - acc: 0.7034 - val_loss: 0.9140 - val_acc: 0.6715\n",
            "Epoch 9/70\n",
            "224/224 [==============================] - 327s 1s/step - loss: 0.7971 - acc: 0.7055 - val_loss: 0.9307 - val_acc: 0.6697\n",
            "Epoch 10/70\n",
            "224/224 [==============================] - 326s 1s/step - loss: 0.7900 - acc: 0.7059 - val_loss: 0.9024 - val_acc: 0.6723\n",
            "\n",
            "Epoch 00010: saving model to /content/drive/MyDrive/aml/saved/vgg-cw/my_best_model.epoch10-loss0.902.hdf5\n",
            "Epoch 11/70\n",
            "224/224 [==============================] - 324s 1s/step - loss: 0.7845 - acc: 0.7069 - val_loss: 0.9192 - val_acc: 0.6796\n",
            "Epoch 12/70\n",
            "224/224 [==============================] - 323s 1s/step - loss: 0.7670 - acc: 0.7156 - val_loss: 0.9051 - val_acc: 0.6770\n",
            "Epoch 13/70\n",
            "224/224 [==============================] - 322s 1s/step - loss: 0.7643 - acc: 0.7168 - val_loss: 0.9072 - val_acc: 0.6741\n",
            "Epoch 14/70\n",
            "224/224 [==============================] - 322s 1s/step - loss: 0.7465 - acc: 0.7243 - val_loss: 0.9374 - val_acc: 0.6625\n",
            "Epoch 15/70\n",
            "224/224 [==============================] - 322s 1s/step - loss: 0.7469 - acc: 0.7256 - val_loss: 0.8877 - val_acc: 0.6804\n",
            "Epoch 16/70\n",
            "224/224 [==============================] - 321s 1s/step - loss: 0.7393 - acc: 0.7266 - val_loss: 0.9110 - val_acc: 0.6784\n",
            "Epoch 17/70\n",
            "224/224 [==============================] - 327s 1s/step - loss: 0.7274 - acc: 0.7319 - val_loss: 0.9241 - val_acc: 0.6695\n",
            "Epoch 18/70\n",
            "224/224 [==============================] - 333s 1s/step - loss: 0.7230 - acc: 0.7332 - val_loss: 0.9085 - val_acc: 0.6709\n",
            "Epoch 19/70\n",
            "224/224 [==============================] - 331s 1s/step - loss: 0.7193 - acc: 0.7346 - val_loss: 0.9071 - val_acc: 0.6770\n",
            "Epoch 20/70\n",
            "224/224 [==============================] - 332s 1s/step - loss: 0.7047 - acc: 0.7406 - val_loss: 0.9068 - val_acc: 0.6790\n",
            "\n",
            "Epoch 00020: saving model to /content/drive/MyDrive/aml/saved/vgg-cw/my_best_model.epoch20-loss0.907.hdf5\n",
            "Epoch 21/70\n",
            "224/224 [==============================] - 328s 1s/step - loss: 0.6998 - acc: 0.7422 - val_loss: 0.9422 - val_acc: 0.6643\n",
            "Epoch 22/70\n",
            "224/224 [==============================] - 329s 1s/step - loss: 0.6926 - acc: 0.7453 - val_loss: 0.9268 - val_acc: 0.6802\n",
            "Epoch 23/70\n",
            "224/224 [==============================] - 328s 1s/step - loss: 0.6833 - acc: 0.7464 - val_loss: 0.9000 - val_acc: 0.6845\n",
            "Epoch 24/70\n",
            "224/224 [==============================] - 327s 1s/step - loss: 0.6835 - acc: 0.7466 - val_loss: 0.9403 - val_acc: 0.6686\n",
            "Epoch 25/70\n",
            "224/224 [==============================] - 331s 1s/step - loss: 0.6678 - acc: 0.7538 - val_loss: 0.8943 - val_acc: 0.6784\n",
            "Epoch 26/70\n",
            "224/224 [==============================] - 340s 2s/step - loss: 0.6645 - acc: 0.7526 - val_loss: 0.9235 - val_acc: 0.6764\n",
            "Epoch 27/70\n",
            "224/224 [==============================] - 341s 2s/step - loss: 0.6613 - acc: 0.7518 - val_loss: 0.9298 - val_acc: 0.6749\n",
            "Epoch 28/70\n",
            "224/224 [==============================] - 341s 2s/step - loss: 0.6506 - acc: 0.7625 - val_loss: 0.9198 - val_acc: 0.6781\n",
            "Epoch 29/70\n",
            "224/224 [==============================] - 339s 2s/step - loss: 0.6482 - acc: 0.7610 - val_loss: 0.9119 - val_acc: 0.6816\n",
            "Epoch 30/70\n",
            "224/224 [==============================] - 340s 2s/step - loss: 0.6433 - acc: 0.7620 - val_loss: 0.9160 - val_acc: 0.6828\n",
            "\n",
            "Epoch 00030: saving model to /content/drive/MyDrive/aml/saved/vgg-cw/my_best_model.epoch30-loss0.916.hdf5\n",
            "Epoch 31/70\n",
            "224/224 [==============================] - 341s 2s/step - loss: 0.6289 - acc: 0.7675 - val_loss: 0.9296 - val_acc: 0.6735\n",
            "Epoch 32/70\n",
            "224/224 [==============================] - 340s 2s/step - loss: 0.6302 - acc: 0.7672 - val_loss: 0.9258 - val_acc: 0.6787\n",
            "Epoch 33/70\n",
            "224/224 [==============================] - 346s 2s/step - loss: 0.6249 - acc: 0.7708 - val_loss: 0.9086 - val_acc: 0.6908\n",
            "Epoch 34/70\n",
            "224/224 [==============================] - 342s 2s/step - loss: 0.6241 - acc: 0.7720 - val_loss: 0.9189 - val_acc: 0.6813\n",
            "Epoch 35/70\n",
            "224/224 [==============================] - 341s 2s/step - loss: 0.6053 - acc: 0.7787 - val_loss: 0.9195 - val_acc: 0.6784\n",
            "Epoch 36/70\n",
            "224/224 [==============================] - 341s 2s/step - loss: 0.6035 - acc: 0.7759 - val_loss: 0.9182 - val_acc: 0.6877\n",
            "Epoch 37/70\n",
            "224/224 [==============================] - 342s 2s/step - loss: 0.6026 - acc: 0.7765 - val_loss: 0.9400 - val_acc: 0.6741\n",
            "Epoch 38/70\n",
            "224/224 [==============================] - 341s 2s/step - loss: 0.5929 - acc: 0.7815 - val_loss: 0.9378 - val_acc: 0.6781\n",
            "Epoch 39/70\n",
            "224/224 [==============================] - 342s 2s/step - loss: 0.5805 - acc: 0.7838 - val_loss: 0.9308 - val_acc: 0.6862\n",
            "Epoch 40/70\n",
            "224/224 [==============================] - 344s 2s/step - loss: 0.5832 - acc: 0.7862 - val_loss: 0.9037 - val_acc: 0.6877\n",
            "\n",
            "Epoch 00040: saving model to /content/drive/MyDrive/aml/saved/vgg-cw/my_best_model.epoch40-loss0.904.hdf5\n",
            "Epoch 41/70\n",
            "224/224 [==============================] - 343s 2s/step - loss: 0.5758 - acc: 0.7913 - val_loss: 0.9241 - val_acc: 0.6819\n",
            "Epoch 42/70\n",
            "224/224 [==============================] - 343s 2s/step - loss: 0.5748 - acc: 0.7873 - val_loss: 0.9290 - val_acc: 0.6842\n",
            "Epoch 43/70\n",
            "224/224 [==============================] - 341s 2s/step - loss: 0.5702 - acc: 0.7898 - val_loss: 0.9459 - val_acc: 0.6799\n",
            "\n",
            "Epoch 00043: ReduceLROnPlateau reducing learning rate to 0.004999999888241291.\n",
            "Epoch 44/70\n",
            "224/224 [==============================] - 342s 2s/step - loss: 0.5401 - acc: 0.8036 - val_loss: 0.9406 - val_acc: 0.6888\n",
            "Epoch 45/70\n",
            "224/224 [==============================] - 342s 2s/step - loss: 0.5460 - acc: 0.8010 - val_loss: 0.9372 - val_acc: 0.6822\n",
            "Epoch 46/70\n",
            "224/224 [==============================] - 342s 2s/step - loss: 0.5341 - acc: 0.8028 - val_loss: 0.8931 - val_acc: 0.6992\n",
            "Epoch 47/70\n",
            "224/224 [==============================] - 342s 2s/step - loss: 0.5245 - acc: 0.8071 - val_loss: 0.9679 - val_acc: 0.6790\n",
            "Epoch 48/70\n",
            "224/224 [==============================] - 338s 2s/step - loss: 0.5289 - acc: 0.8086 - val_loss: 0.9345 - val_acc: 0.6903\n",
            "Epoch 49/70\n",
            "224/224 [==============================] - 343s 2s/step - loss: 0.5201 - acc: 0.8108 - val_loss: 0.9120 - val_acc: 0.6894\n",
            "Epoch 50/70\n",
            "224/224 [==============================] - 349s 2s/step - loss: 0.5163 - acc: 0.8128 - val_loss: 0.9861 - val_acc: 0.6767\n",
            "\n",
            "Epoch 00050: saving model to /content/drive/MyDrive/aml/saved/vgg-cw/my_best_model.epoch50-loss0.986.hdf5\n",
            "Epoch 51/70\n",
            "224/224 [==============================] - 347s 2s/step - loss: 0.5228 - acc: 0.8101 - val_loss: 0.9174 - val_acc: 0.6984\n",
            "Epoch 52/70\n",
            "224/224 [==============================] - 348s 2s/step - loss: 0.5090 - acc: 0.8162 - val_loss: 0.9351 - val_acc: 0.6903\n",
            "Epoch 53/70\n",
            "224/224 [==============================] - 343s 2s/step - loss: 0.5104 - acc: 0.8137 - val_loss: 0.9402 - val_acc: 0.6891\n",
            "Epoch 54/70\n",
            "224/224 [==============================] - 336s 2s/step - loss: 0.4965 - acc: 0.8202 - val_loss: 0.9111 - val_acc: 0.7073\n",
            "Epoch 55/70\n",
            "224/224 [==============================] - 325s 1s/step - loss: 0.5000 - acc: 0.8186 - val_loss: 0.9628 - val_acc: 0.6848\n",
            "Epoch 56/70\n",
            "224/224 [==============================] - 329s 1s/step - loss: 0.5024 - acc: 0.8180 - val_loss: 0.9328 - val_acc: 0.6995\n",
            "Epoch 57/70\n",
            "224/224 [==============================] - 327s 1s/step - loss: 0.4923 - acc: 0.8212 - val_loss: 0.9503 - val_acc: 0.6929\n",
            "Epoch 58/70\n",
            "224/224 [==============================] - 327s 1s/step - loss: 0.4924 - acc: 0.8218 - val_loss: 0.9433 - val_acc: 0.6871\n",
            "Epoch 59/70\n",
            "224/224 [==============================] - 334s 1s/step - loss: 0.4904 - acc: 0.8203 - val_loss: 0.9432 - val_acc: 0.6900\n",
            "Epoch 60/70\n",
            "224/224 [==============================] - 325s 1s/step - loss: 0.4879 - acc: 0.8203 - val_loss: 0.9308 - val_acc: 0.6949\n",
            "\n",
            "Epoch 00060: saving model to /content/drive/MyDrive/aml/saved/vgg-cw/my_best_model.epoch60-loss0.931.hdf5\n",
            "Epoch 61/70\n",
            "224/224 [==============================] - 325s 1s/step - loss: 0.4860 - acc: 0.8228 - val_loss: 0.9669 - val_acc: 0.6891\n",
            "Epoch 62/70\n",
            "224/224 [==============================] - 331s 1s/step - loss: 0.4831 - acc: 0.8244 - val_loss: 0.9427 - val_acc: 0.6969\n",
            "Epoch 63/70\n",
            "224/224 [==============================] - 327s 1s/step - loss: 0.4776 - acc: 0.8232 - val_loss: 0.9143 - val_acc: 0.6975\n",
            "Epoch 64/70\n",
            "224/224 [==============================] - 325s 1s/step - loss: 0.4801 - acc: 0.8270 - val_loss: 0.9783 - val_acc: 0.6836\n",
            "\n",
            "Epoch 00064: ReduceLROnPlateau reducing learning rate to 0.0024999999441206455.\n",
            "Epoch 65/70\n",
            "224/224 [==============================] - 330s 1s/step - loss: 0.4777 - acc: 0.8260 - val_loss: 0.9476 - val_acc: 0.6920\n",
            "Epoch 66/70\n",
            "224/224 [==============================] - 329s 1s/step - loss: 0.4637 - acc: 0.8313 - val_loss: 0.9410 - val_acc: 0.6934\n",
            "Epoch 67/70\n",
            "224/224 [==============================] - 331s 1s/step - loss: 0.4694 - acc: 0.8279 - val_loss: 0.9405 - val_acc: 0.6958\n",
            "Epoch 68/70\n",
            "224/224 [==============================] - 327s 1s/step - loss: 0.4607 - acc: 0.8334 - val_loss: 0.9202 - val_acc: 0.6992\n",
            "Epoch 69/70\n",
            "224/224 [==============================] - 324s 1s/step - loss: 0.4651 - acc: 0.8335 - val_loss: 0.9827 - val_acc: 0.6891\n",
            "Epoch 70/70\n",
            "224/224 [==============================] - 326s 1s/step - loss: 0.4593 - acc: 0.8350 - val_loss: 0.9749 - val_acc: 0.6836\n",
            "\n",
            "Epoch 00070: saving model to /content/drive/MyDrive/aml/saved/vgg-cw/my_best_model.epoch70-loss0.975.hdf5\n"
          ]
        }
      ]
    },
    {
      "cell_type": "code",
      "source": [
        "epoch_str = '-EPOCHS_' + str(100)\n",
        "test_acc = 'test_acc_%.3f' % results_test[1]\n",
        "model.save('/content/drive/MyDrive/aml/models/' + 'VGG16-CW' + epoch_str + test_acc + '.h5')"
      ],
      "metadata": {
        "id": "YE1e6PDWflgy"
      },
      "execution_count": null,
      "outputs": []
    },
    {
      "cell_type": "code",
      "source": [
        "model.load_weights('/content/drive/MyDrive/aml/models/VGG16-CW-EPOCHS_100test_acc_0.701.h5')"
      ],
      "metadata": {
        "id": "4HBHpnUUUqFl"
      },
      "execution_count": null,
      "outputs": []
    },
    {
      "cell_type": "code",
      "source": [
        "results_dev = model.evaluate_generator(dev_generator, 3589 // BS)\n",
        "print('dev loss:', results_dev[0],\", dev acc:\", results_dev[1])"
      ],
      "metadata": {
        "id": "G0uv4t_lJA3p",
        "colab": {
          "base_uri": "https://localhost:8080/"
        },
        "outputId": "f22cedce-bd58-4e97-c122-14d6c31f8728"
      },
      "execution_count": null,
      "outputs": [
        {
          "output_type": "stream",
          "name": "stdout",
          "text": [
            "dev loss: 0.9519310700041907 , dev acc: 0.6930803571428571\n"
          ]
        }
      ]
    },
    {
      "cell_type": "code",
      "source": [
        "results_test = model.evaluate_generator(test_generator, 3599 // BS)\n",
        "print('test loss:', results_test[0],\", test acc:\", results_test[1])"
      ],
      "metadata": {
        "id": "Q_ezJnh1LQcA",
        "colab": {
          "base_uri": "https://localhost:8080/"
        },
        "outputId": "948b5065-b8ad-4b08-b15f-f95c3a2368ca"
      },
      "execution_count": null,
      "outputs": [
        {
          "output_type": "stream",
          "name": "stdout",
          "text": [
            "test loss: 0.8873257339000702 , test acc: 0.7006138392857143\n"
          ]
        }
      ]
    },
    {
      "cell_type": "code",
      "source": [
        "# list all data in history\n",
        "print(history.history.keys())\n",
        "# summarize history for accuracy\n",
        "plt.plot(history.history['acc'])\n",
        "plt.plot(history.history['val_acc'])\n",
        "plt.title('model accuracy')\n",
        "plt.ylabel('accuracy')\n",
        "plt.xlabel('epoch')\n",
        "plt.legend(['train', 'dev'], loc='upper left')\n",
        "plt.show()\n",
        "# summarize history for loss\n",
        "plt.plot(history.history['loss'])\n",
        "plt.plot(history.history['val_loss'])\n",
        "plt.title('model loss')\n",
        "plt.ylabel('loss')\n",
        "plt.xlabel('epoch')\n",
        "plt.legend(['train', 'dev'], loc='upper left')\n",
        "plt.show()"
      ],
      "metadata": {
        "id": "BvdPch8Yfhud",
        "colab": {
          "base_uri": "https://localhost:8080/",
          "height": 591
        },
        "outputId": "74985dfa-1da7-4750-ed2f-1211b09358e8"
      },
      "execution_count": null,
      "outputs": [
        {
          "output_type": "stream",
          "name": "stdout",
          "text": [
            "dict_keys(['val_loss', 'val_acc', 'loss', 'acc', 'lr'])\n"
          ]
        },
        {
          "output_type": "display_data",
          "data": {
            "image/png": "[encoded data removed]",
            "text/plain": [
              "<Figure size 432x288 with 1 Axes>"
            ]
          },
          "metadata": {
            "needs_background": "light"
          }
        },
        {
          "output_type": "display_data",
          "data": {
            "image/png": "[encoded data removed]",
            "text/plain": [
              "<Figure size 432x288 with 1 Axes>"
            ]
          },
          "metadata": {
            "needs_background": "light"
          }
        }
      ]
    },
    {
      "cell_type": "code",
      "source": [
        ""
      ],
      "metadata": {
        "id": "imxWvnZ6f1iY"
      },
      "execution_count": null,
      "outputs": []
    },
    {
      "cell_type": "code",
      "source": [
        "m='m'"
      ],
      "metadata": {
        "id": "B0wM20ZpKXvM"
      },
      "execution_count": null,
      "outputs": []
    },
    {
      "cell_type": "code",
      "source": [
        "ffjgbbbbb"
      ],
      "metadata": {
        "id": "A05-ctLnKcLC"
      },
      "execution_count": null,
      "outputs": []
    }
  ]
}